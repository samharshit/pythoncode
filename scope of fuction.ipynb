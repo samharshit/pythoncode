{
 "cells": [
  {
   "cell_type": "code",
   "execution_count": null,
   "metadata": {},
   "outputs": [],
   "source": [
    "x=10\n",
    "print(\"global x value\",x)\n",
    "def hey():\n",
    "    x=10\n",
    "    x=x+5\n",
    "    print(\"local x value\",x)\n",
    "hey()\n",
    "print(\"global x value\",x)\n",
    "   \n",
    "    "
   ]
  },
  {
   "cell_type": "code",
   "execution_count": null,
   "metadata": {},
   "outputs": [],
   "source": [
    "x=10 # global variable\n",
    "def change():\n",
    "    global x #local variable\n",
    "    x=x+5\n",
    "    print(\"in function value=\",x)\n",
    "print(\"before function value=\",x)\n",
    "change()\n",
    "print(\"before function value=\",x)"
   ]
  },
  {
   "cell_type": "code",
   "execution_count": null,
   "metadata": {},
   "outputs": [],
   "source": [
    "# lambda\n",
    "add = lambda x,y: x+y\n"
   ]
  },
  {
   "cell_type": "code",
   "execution_count": null,
   "metadata": {},
   "outputs": [],
   "source": [
    "print(add(3,4))"
   ]
  },
  {
   "cell_type": "code",
   "execution_count": null,
   "metadata": {},
   "outputs": [],
   "source": [
    "great =lambda x,y: x if x>y else y\n",
    "print(great(5,6))"
   ]
  },
  {
   "cell_type": "code",
   "execution_count": null,
   "metadata": {},
   "outputs": [],
   "source": [
    "fact =lambda a: 1 if a==1 else a*fact(a-1)\n",
    "print()\n",
    "print(fact(4))"
   ]
  },
  {
   "cell_type": "code",
   "execution_count": null,
   "metadata": {},
   "outputs": [],
   "source": [
    "hello = lambda c:c if c==10 else (print(\"hello world\"),hello(c+1))"
   ]
  },
  {
   "cell_type": "code",
   "execution_count": null,
   "metadata": {},
   "outputs": [],
   "source": [
    "hello(1)"
   ]
  },
  {
   "cell_type": "code",
   "execution_count": null,
   "metadata": {},
   "outputs": [],
   "source": [
    "x=list(map(int,input().split()))\n",
    "print(x)"
   ]
  },
  {
   "cell_type": "code",
   "execution_count": 5,
   "metadata": {},
   "outputs": [
    {
     "name": "stdout",
     "output_type": "stream",
     "text": [
      "34 67 8 4\n",
      "34 8 4\n"
     ]
    }
   ],
   "source": [
    "x=list(map(int,input().split()))\n",
    "y=list(filter(lambda y:True if y%2==0 else False,x))\n",
    "print(*y)"
   ]
  },
  {
   "cell_type": "code",
   "execution_count": null,
   "metadata": {},
   "outputs": [],
   "source": []
  },
  {
   "cell_type": "markdown",
   "metadata": {},
   "source": [
    "##### "
   ]
  },
  {
   "cell_type": "code",
   "execution_count": null,
   "metadata": {},
   "outputs": [],
   "source": [
    "sum((5,9))"
   ]
  },
  {
   "cell_type": "code",
   "execution_count": 15,
   "metadata": {},
   "outputs": [
    {
     "name": "stdout",
     "output_type": "stream",
     "text": [
      "enter elements78900\n",
      "7 8 9 0 0 "
     ]
    }
   ],
   "source": [
    "l=list(input(\"enter elements\"))\n",
    "for var in l:\n",
    "    int(var)\n",
    "    print(var,end=\" \")"
   ]
  },
  {
   "cell_type": "code",
   "execution_count": null,
   "metadata": {},
   "outputs": [],
   "source": [
    "map(int,l)\n",
    "print(*map(int,l))"
   ]
  },
  {
   "cell_type": "code",
   "execution_count": null,
   "metadata": {},
   "outputs": [],
   "source": [
    "x=list(map(int,input().split()))\n",
    "list(map(lambda x:'prime' if i<=x//2: if x%i==0 else ))"
   ]
  },
  {
   "cell_type": "code",
   "execution_count": 12,
   "metadata": {},
   "outputs": [
    {
     "name": "stdout",
     "output_type": "stream",
     "text": [
      "enter no: \n",
      "65\n",
      "prime no\n",
      "prime no\n",
      "prime no\n",
      "not a prime no\n",
      "prime no\n",
      "prime no\n",
      "prime no\n",
      "prime no\n",
      "prime no\n",
      "prime no\n",
      "prime no\n",
      "not a prime no\n",
      "prime no\n",
      "prime no\n",
      "prime no\n",
      "prime no\n",
      "prime no\n",
      "prime no\n",
      "prime no\n",
      "prime no\n",
      "prime no\n",
      "prime no\n",
      "prime no\n",
      "prime no\n",
      "prime no\n",
      "prime no\n",
      "prime no\n",
      "prime no\n",
      "prime no\n",
      "prime no\n",
      "prime no\n"
     ]
    }
   ],
   "source": [
    "n=int(input(\"enter no: \\n\"))\n",
    "for i in range(2,(n//2)+1):\n",
    "    if n%i==0:\n",
    "        print(\"not a prime no\")\n",
    "    else:\n",
    "        print(\"prime no\")\n",
    "    \n"
   ]
  },
  {
   "cell_type": "code",
   "execution_count": null,
   "metadata": {},
   "outputs": [],
   "source": [
    "lambda x:'prime' if i<=x//2: if x%i==0 else "
   ]
  }
 ],
 "metadata": {
  "kernelspec": {
   "display_name": "Python 3",
   "language": "python",
   "name": "python3"
  },
  "language_info": {
   "codemirror_mode": {
    "name": "ipython",
    "version": 3
   },
   "file_extension": ".py",
   "mimetype": "text/x-python",
   "name": "python",
   "nbconvert_exporter": "python",
   "pygments_lexer": "ipython3",
   "version": "3.6.4"
  }
 },
 "nbformat": 4,
 "nbformat_minor": 2
}
