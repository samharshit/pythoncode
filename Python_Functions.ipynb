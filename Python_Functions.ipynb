{
 "cells": [
  {
   "cell_type": "markdown",
   "metadata": {},
   "source": [
    "# Functions in python"
   ]
  },
  {
   "cell_type": "code",
   "execution_count": 2,
   "metadata": {
    "collapsed": true
   },
   "outputs": [],
   "source": [
    "def hello():\n",
    "    name = input(\"Enter your name : \")\n",
    "    print(\"Welcome {} to the python functions.\".format(name))\n"
   ]
  },
  {
   "cell_type": "code",
   "execution_count": 3,
   "metadata": {},
   "outputs": [
    {
     "name": "stdout",
     "output_type": "stream",
     "text": [
      "function calling starts\n",
      "Enter your name : sachin\n",
      "Welcome sachin to the python functions.\n",
      "function calling finished\n",
      "None\n"
     ]
    }
   ],
   "source": [
    "print(\"function calling starts\")\n",
    "x = hello()\n",
    "print(\"function calling finished\")\n",
    "print(x)"
   ]
  },
  {
   "cell_type": "code",
   "execution_count": 4,
   "metadata": {},
   "outputs": [
    {
     "name": "stdout",
     "output_type": "stream",
     "text": [
      "Enter your name : sachin\n",
      "Welcome sachin to the python functions.\n"
     ]
    }
   ],
   "source": [
    "hello()"
   ]
  },
  {
   "cell_type": "code",
   "execution_count": 1,
   "metadata": {},
   "outputs": [],
   "source": [
    "def calc(x,y,ch):\n",
    "    ch = ch.strip()\n",
    "    if ch == '+' :\n",
    "        return x + y\n",
    "    elif ch == '-' :\n",
    "        return x - y\n",
    "    elif ch == '*' :\n",
    "        return x * y\n",
    "    elif ch == '/' or ch == '//' or ch == '%' :\n",
    "        if y == 0  :\n",
    "            return \"Error!!Can not Divide by Zero\"\n",
    "        else :\n",
    "            if ch == '/' :\n",
    "                return x / y\n",
    "            elif ch == '//' :\n",
    "                return x // y\n",
    "            else :\n",
    "                return x % y\n",
    "    elif ch == \"**\" :\n",
    "        return x ** y\n",
    "    else :\n",
    "        return \"Error!!!Invalid Operation\""
   ]
  },
  {
   "cell_type": "code",
   "execution_count": 5,
   "metadata": {},
   "outputs": [
    {
     "name": "stdout",
     "output_type": "stream",
     "text": [
      "27\n"
     ]
    }
   ],
   "source": [
    "r = calc(3,3,'**')\n",
    "print(r)"
   ]
  },
  {
   "cell_type": "code",
   "execution_count": 14,
   "metadata": {},
   "outputs": [
    {
     "name": "stdout",
     "output_type": "stream",
     "text": [
      "Do want to run Calc Program : lksdj\n",
      "************************************************** \n",
      "Welcome to Calc Program\n",
      " **************************************************\n",
      "\n",
      "\n",
      "X : 67\n",
      "Y : 0\n",
      "Operation (+,-,*,/,//,%,**) : /\n",
      "Result : Error!!Can not Divide by Zero \n",
      "Do want to run Calc Program : 67\n",
      "************************************************** \n",
      "Welcome to Calc Program\n",
      " **************************************************\n",
      "\n",
      "\n",
      "X : 67\n",
      "Y : 27\n",
      "Operation (+,-,*,/,//,%,**) : /\n",
      "Result : 2.4814814814814814 \n",
      "Do want to run Calc Program : dk\n",
      "************************************************** \n",
      "Welcome to Calc Program\n",
      " **************************************************\n",
      "\n",
      "\n",
      "X : 8\n",
      "Y : 8\n",
      "Operation (+,-,*,/,//,%,**) : **\n",
      "Result : 16777216 \n",
      "Do want to run Calc Program : \n"
     ]
    }
   ],
   "source": [
    "while input(\"Do want to run Calc Program : \") :\n",
    "    print(\"*\"*50,\"\\nWelcome to Calc Program\\n\",\"*\"*50)\n",
    "    p = int(input(\"\\n\\nX : \"))\n",
    "    q = int(input(\"Y : \"))\n",
    "    user_choice = input(\"Operation (+,-,*,/,//,%,**) : \")\n",
    "    result = calc(p,q,user_choice)\n",
    "    print(\"Result : %s \"%(result))\n",
    "    \n",
    "    "
   ]
  },
  {
   "cell_type": "code",
   "execution_count": 15,
   "metadata": {
    "collapsed": true
   },
   "outputs": [],
   "source": [
    "def convert_Dict(p,q,r,s) : # ('name','python),('hello','world')\n",
    "    \"\"\"conver_Dict(p,q,r,s)-> This function takes 4 tuples with two values each.\n",
    "    and return a dictionary.\"\"\"\n",
    "    l = [ p,q,r,s ] # [ ('name','python'),('hello','world') ]\n",
    "    d = dict(l)\n",
    "    return d"
   ]
  },
  {
   "cell_type": "code",
   "execution_count": 17,
   "metadata": {},
   "outputs": [
    {
     "name": "stdout",
     "output_type": "stream",
     "text": [
      "Give input as key=value : \n",
      "\n",
      "\n",
      "1st entry : x=y\n",
      "2nd entry : p=q\n",
      "3rd entry : somthing=nothing\n",
      "4th entry : hello=world\n",
      "Doc =  conver_Dict(p,q,r,s)-> This function takes 4 tuples with two values each.\n",
      "    and return a dictionary.\n",
      "<class 'dict'>\n",
      "{'x': 'y', 'p': 'q', 'somthing': 'nothing', 'hello': 'world'}\n"
     ]
    }
   ],
   "source": [
    "print(\"Give input as key=value : \\n\\n\")\n",
    "e1 = input(\"1st entry : \").split('=') # 'name=python'.strip('=')\n",
    "e2 = input(\"2nd entry : \").split('=') # [ 'name', 'python' ]\n",
    "e3 = input(\"3rd entry : \").split('=')\n",
    "e4 = input(\"4th entry : \").split('=')\n",
    "print(\"Doc = \",convert_Dict.__doc__)\n",
    "st1 = convert_Dict(e1,e2,e3,e4)\n",
    "print(type(st1))\n",
    "print(st1)"
   ]
  },
  {
   "cell_type": "code",
   "execution_count": 19,
   "metadata": {},
   "outputs": [
    {
     "name": "stdout",
     "output_type": "stream",
     "text": [
      "Enter a string : hello world\n",
      "dlrow olleh\n",
      "Enter a list space seprated : 1 2 3 4 5 6 7 8 9 10\n",
      "['10', '9', '8', '7', '6', '5', '4', '3', '2', '1']\n"
     ]
    }
   ],
   "source": [
    "def reverse(string):\n",
    "    return string[::-1]\n",
    "s = reverse(input(\"Enter a string : \"))\n",
    "print(s)\n",
    "s = reverse(input(\"Enter a list space seprated : \").split())\n",
    "print(s)"
   ]
  },
  {
   "cell_type": "code",
   "execution_count": 20,
   "metadata": {},
   "outputs": [
    {
     "name": "stdout",
     "output_type": "stream",
     "text": [
      "Enter x : 10\n",
      "Enter y : 5\n",
      "5 10\n"
     ]
    }
   ],
   "source": [
    "def swap(x,y):\n",
    "    return y,x\n",
    "x,y = int(input(\"Enter x : \")),int(input(\"Enter y : \"))\n",
    "x,y = swap(x,y)\n",
    "print(x,y)"
   ]
  },
  {
   "cell_type": "code",
   "execution_count": 27,
   "metadata": {},
   "outputs": [
    {
     "name": "stdout",
     "output_type": "stream",
     "text": [
      "81\n"
     ]
    }
   ],
   "source": [
    "def pow(x,y):\n",
    "    return x**y\n",
    "x = pow(3,4) #positional Arguments\n",
    "print(x)"
   ]
  },
  {
   "cell_type": "code",
   "execution_count": 28,
   "metadata": {},
   "outputs": [
    {
     "name": "stdout",
     "output_type": "stream",
     "text": [
      "9\n"
     ]
    }
   ],
   "source": [
    "r = pow(y=2,x=3)\n",
    "print(r)"
   ]
  },
  {
   "cell_type": "code",
   "execution_count": 29,
   "metadata": {
    "collapsed": true
   },
   "outputs": [],
   "source": [
    "def pow(x,y=1):\n",
    "    return x**y"
   ]
  },
  {
   "cell_type": "code",
   "execution_count": 33,
   "metadata": {},
   "outputs": [
    {
     "name": "stdout",
     "output_type": "stream",
     "text": [
      "2\n",
      "8\n",
      "1\n",
      "243\n"
     ]
    }
   ],
   "source": [
    "k = pow(2)\n",
    "p = pow(2,3)\n",
    "print(k)\n",
    "print(p)\n",
    "print(pow(y=2,x=1))\n",
    "print(pow(3,y=5))"
   ]
  },
  {
   "cell_type": "code",
   "execution_count": 35,
   "metadata": {},
   "outputs": [
    {
     "name": "stdout",
     "output_type": "stream",
     "text": [
      "0\n",
      "1\n",
      "3\n",
      "55\n"
     ]
    }
   ],
   "source": [
    "def add(*args):\n",
    "    return sum(args)\n",
    "print(add())\n",
    "print(add(1))\n",
    "print(add(1,2))\n",
    "print(add(1,2,3,4,5,6,7,8,9,10))"
   ]
  },
  {
   "cell_type": "code",
   "execution_count": 36,
   "metadata": {},
   "outputs": [
    {
     "name": "stdout",
     "output_type": "stream",
     "text": [
      "<class 'tuple'>\n",
      "value 1 : one\n",
      "value 2 : two\n",
      "\n",
      "\n",
      "\n",
      "<class 'tuple'>\n",
      "value 1 : hello\n",
      "value 2 : hi\n",
      "value 3 : how\n",
      "value 4 : are\n",
      "value 5 : you\n"
     ]
    }
   ],
   "source": [
    "def info(*args):\n",
    "    print(type(args))\n",
    "    c = 1\n",
    "    for var in args :\n",
    "        print(\"value {} : {}\".format(c,var))\n",
    "        c = c + 1\n",
    "info('one','two')\n",
    "print(\"\\n\\n\")\n",
    "info('hello','hi','how','are','you')"
   ]
  },
  {
   "cell_type": "code",
   "execution_count": 37,
   "metadata": {},
   "outputs": [
    {
     "name": "stdout",
     "output_type": "stream",
     "text": [
      "<class 'dict'>\n",
      "name = sachin\n",
      "\n",
      "<class 'dict'>\n",
      "name = python\n",
      "framework = ['django', 'flask']\n",
      "\n",
      "Enter your name hello\n",
      "Enter your addressjaipur\n",
      "{'name': 'hello', 'addr': 'jaipur'}\n"
     ]
    }
   ],
   "source": [
    "def info(**kwargs):\n",
    "    print(type(kwargs))\n",
    "    for key,value in kwargs.items():\n",
    "        print(\"{} = {}\".format(key,value))\n",
    "\n",
    "info(name='sachin',)\n",
    "print()\n",
    "info(name='python',framework=['django','flask'])\n",
    "print()\n",
    "def info(**info):\n",
    "    return info\n",
    "st1 = info(name=input(\"Enter your name \"),addr=input(\"Enter your address\"))\n",
    "print(st1)"
   ]
  },
  {
   "cell_type": "code",
   "execution_count": null,
   "metadata": {
    "collapsed": true
   },
   "outputs": [],
   "source": []
  }
 ],
 "metadata": {
  "kernelspec": {
   "display_name": "Python 3",
   "language": "python",
   "name": "python3"
  },
  "language_info": {
   "codemirror_mode": {
    "name": "ipython",
    "version": 3
   },
   "file_extension": ".py",
   "mimetype": "text/x-python",
   "name": "python",
   "nbconvert_exporter": "python",
   "pygments_lexer": "ipython3",
   "version": "3.6.4"
  }
 },
 "nbformat": 4,
 "nbformat_minor": 2
}
