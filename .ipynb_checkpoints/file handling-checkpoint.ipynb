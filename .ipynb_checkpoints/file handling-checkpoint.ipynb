{
 "cells": [
  {
   "cell_type": "markdown",
   "metadata": {},
   "source": [
    "# File handling"
   ]
  },
  {
   "cell_type": "markdown",
   "metadata": {},
   "source": [
    "1.open\n",
    "- read\n",
    "- write\n",
    "- append\n",
    "\n",
    "fp=open('fname',mode,buffer_size)\n",
    " modes\n",
    "1. r = read the file which is open\n",
    "2. r+ =read and write\n",
    "3. rb= read an byte file\n",
    "4. rb+=read,write and overwrite byte files(m)\n",
    "4. w =write and overwrite current file\n",
    "5. w+=read and overwrite current file\n",
    "6. a=add to the current file"
   ]
  }
 ],
 "metadata": {
  "kernelspec": {
   "display_name": "Python 3",
   "language": "python",
   "name": "python3"
  },
  "language_info": {
   "codemirror_mode": {
    "name": "ipython",
    "version": 3
   },
   "file_extension": ".py",
   "mimetype": "text/x-python",
   "name": "python",
   "nbconvert_exporter": "python",
   "pygments_lexer": "ipython3",
   "version": "3.6.4"
  }
 },
 "nbformat": 4,
 "nbformat_minor": 2
}
