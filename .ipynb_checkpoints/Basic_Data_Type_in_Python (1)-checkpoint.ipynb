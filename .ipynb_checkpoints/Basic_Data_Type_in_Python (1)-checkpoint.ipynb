{
 "cells": [
  {
   "cell_type": "markdown",
   "metadata": {},
   "source": [
    "# Basic Data Types"
   ]
  },
  {
   "cell_type": "markdown",
   "metadata": {},
   "source": [
    "1. Numbers\n",
    "2. String\n",
    "3. List\n",
    "4. Tuple\n",
    "5. Dictionary\n",
    "6. Sets"
   ]
  },
  {
   "cell_type": "markdown",
   "metadata": {},
   "source": [
    "# Numbers"
   ]
  },
  {
   "cell_type": "markdown",
   "metadata": {},
   "source": [
    "1. int\n",
    "2. float\n",
    "3. complex"
   ]
  },
  {
   "cell_type": "code",
   "execution_count": 5,
   "metadata": {},
   "outputs": [
    {
     "name": "stdout",
     "output_type": "stream",
     "text": [
      "Enter a number :            5        \n",
      "Enter a number :      6    \n",
      "Type of X :  <class 'int'>\n",
      "Type of Y :  <class 'int'>\n",
      "Value of X :  5\n",
      "Value of Y :  6\n",
      "Id of X :  1905418528\n",
      "Id of Y :  1905418560\n",
      "x =  6 y =  6\n",
      "Id of X :  1905418560\n",
      "Id of Y :  1905418560\n"
     ]
    }
   ],
   "source": [
    "#int is any number which can be formed by combination 0 - 9 digits\n",
    "x = int(input(\"Enter a number : \"))\n",
    "y = int(input(\"Enter a number : \"))\n",
    "print(\"Type of X : \",type(x)) \n",
    "print(\"Type of Y : \",type(y))\n",
    "print(\"Value of X : \",x)\n",
    "print(\"Value of Y : \",y)\n",
    "print(\"Id of X : \",id(x))\n",
    "print(\"Id of Y : \",id(y))\n",
    "x = 6\n",
    "print(\"x = \",x,\"y = \",y)\n",
    "print(\"Id of X : \",id(x))\n",
    "print(\"Id of Y : \",id(y))"
   ]
  },
  {
   "cell_type": "code",
   "execution_count": 6,
   "metadata": {},
   "outputs": [
    {
     "name": "stdout",
     "output_type": "stream",
     "text": [
      "X :   43434.45324\n",
      "Y : 29749832748932789417984732874891327.987432987432974\n",
      "X =  43434.45324\n",
      "Type(x) =  <class 'float'>\n",
      "Y =  2.974983274893279e+34\n",
      "Type(y) =  <class 'float'>\n"
     ]
    }
   ],
   "source": [
    "#float are those numbers that can be represented in number line\n",
    "#these real number or we can say floating point number\n",
    "x = float(input(\"X : \"))\n",
    "y = float(input(\"Y : \"))\n",
    "print(\"X = \",x)\n",
    "print(\"Type(x) = \",type(x))\n",
    "print(\"Y = \",y)\n",
    "print(\"Type(y) = \",type(y))\n"
   ]
  },
  {
   "cell_type": "code",
   "execution_count": 7,
   "metadata": {},
   "outputs": [
    {
     "name": "stdout",
     "output_type": "stream",
     "text": [
      "Type of X :  <class 'complex'>\n",
      "None\n",
      "Value of X :  (3+5j)\n"
     ]
    }
   ],
   "source": [
    "#complex numbers are those number which have an imaginary number with a real number\n",
    "#3.5i here 3 is real and 5 is img known as iota\n",
    "x = 3+5j\n",
    "print(print(\"Type of X : \",type(x)))\n",
    "print(\"Value of X : \",x)"
   ]
  },
  {
   "cell_type": "markdown",
   "metadata": {},
   "source": [
    "# Strings"
   ]
  },
  {
   "cell_type": "markdown",
   "metadata": {},
   "source": [
    "1. String is combination of or group of charcters\n",
    "2. Python use utf-8 encoding to define charcters\n",
    "3. String can be defined as 'any string' or we can use \"any string\"\n",
    "4. In python String can also be defined as \n",
    "5. \"\"\" line1\n",
    "6. line2\n",
    "7. multiline stirng \"\"\"\n",
    "8. or \n",
    "9. ''' para1\n",
    "10. para2\n",
    "11.    para3\n",
    "12. multiline'''\n",
    "13. String data type is a object of built-in String Class"
   ]
  },
  {
   "cell_type": "code",
   "execution_count": 10,
   "metadata": {},
   "outputs": [
    {
     "name": "stdout",
     "output_type": "stream",
     "text": [
      "hello world\n",
      "Hello World\n",
      "\n",
      "Hi this is Strings in python.\n",
      "        Python is awesom language.\n",
      "Strings are very very wide data type.\n",
      "We can convert almost all data types into strings.\n",
      "        Default input function of python returns a string.\n",
      "\n"
     ]
    }
   ],
   "source": [
    "s1 = 'hello world'\n",
    "s2 = \"Hello World\"\n",
    "s3 =\"\"\"\n",
    "Hi this is Strings in python.\n",
    "        Python is awesom language.\n",
    "Strings are very very wide data type.\n",
    "We can convert almost all data types into strings.\n",
    "        Default input function of python returns a string.\n",
    "\"\"\"\n",
    "print(s1)\n",
    "print(s2)\n",
    "print(s3)"
   ]
  },
  {
   "cell_type": "code",
   "execution_count": 12,
   "metadata": {},
   "outputs": [
    {
     "name": "stdout",
     "output_type": "stream",
     "text": [
      "He said,\"She is beautiful.\"\n",
      "He said,\"She is beautiful.\"\n"
     ]
    }
   ],
   "source": [
    "s = \"He said,\\\"She is beautiful.\\\"\" #backslash is known as escape charcter\n",
    "k = 'He said,\"She is beautiful.\"'\n",
    "print(s)\n",
    "print(k)"
   ]
  },
  {
   "cell_type": "markdown",
   "metadata": {},
   "source": [
    "# Property of Strings"
   ]
  },
  {
   "cell_type": "markdown",
   "metadata": {},
   "source": [
    "1. indexing # starts from 0 to n - 1 where n is the length of string use [] \n",
    "2. slicing # used to make sub-strings from strings used with start,end and step variable"
   ]
  },
  {
   "cell_type": "code",
   "execution_count": 13,
   "metadata": {},
   "outputs": [
    {
     "name": "stdout",
     "output_type": "stream",
     "text": [
      "h\n",
      "h\n"
     ]
    }
   ],
   "source": [
    "s = \"Python\"\n",
    "#indexing in strings\n",
    "print(s[3])\n",
    "print(s[-3])"
   ]
  },
  {
   "cell_type": "code",
   "execution_count": 14,
   "metadata": {},
   "outputs": [
    {
     "name": "stdout",
     "output_type": "stream",
     "text": [
      "lo World\n",
      "Hello World!\n",
      "Hello \n",
      "World!\n",
      "Hello World!\n"
     ]
    }
   ],
   "source": [
    "#-12-11-10-9-8-7-6-5-4-3-2-1\n",
    "s = \"Hello World!\"\n",
    "#   01234567891011\n",
    "#s[start:end:step] always starts with start end end string in end-1 character\n",
    "x = s[3:11]\n",
    "y =  s[:]\n",
    "z = s[:6]\n",
    "p = s[6:]\n",
    "print(x)\n",
    "print(y)\n",
    "print(z)\n",
    "print(p)\n",
    "print(s)"
   ]
  },
  {
   "cell_type": "code",
   "execution_count": 16,
   "metadata": {},
   "outputs": [
    {
     "name": "stdout",
     "output_type": "stream",
     "text": [
      "!dlroW olleH\n",
      "Hello World\n",
      "\n",
      "Hello \n",
      "!dlroW olleH\n",
      "HloWrd\n",
      "!lo le\n"
     ]
    }
   ],
   "source": [
    "s = \"Hello World!\"\n",
    "print(s[::-1])\n",
    "print(s[:-1])\n",
    "print(s[10:13:-1])\n",
    "print(s[-12:-6])\n",
    "print(s[-1:-13:-1])\n",
    "print(s[::2])\n",
    "print(s[::-2])"
   ]
  },
  {
   "cell_type": "code",
   "execution_count": 19,
   "metadata": {},
   "outputs": [
    {
     "name": "stdout",
     "output_type": "stream",
     "text": [
      "Methods and Attributes of String in Python \n",
      "['__add__', '__class__', '__contains__', '__delattr__', '__dir__', '__doc__', '__eq__', '__format__', '__ge__', '__getattribute__', '__getitem__', '__getnewargs__', '__gt__', '__hash__', '__init__', '__init_subclass__', '__iter__', '__le__', '__len__', '__lt__', '__mod__', '__mul__', '__ne__', '__new__', '__reduce__', '__reduce_ex__', '__repr__', '__rmod__', '__rmul__', '__setattr__', '__sizeof__', '__str__', '__subclasshook__', 'capitalize', 'casefold', 'center', 'count', 'encode', 'endswith', 'expandtabs', 'find', 'format', 'format_map', 'index', 'isalnum', 'isalpha', 'isdecimal', 'isdigit', 'isidentifier', 'islower', 'isnumeric', 'isprintable', 'isspace', 'istitle', 'isupper', 'join', 'ljust', 'lower', 'lstrip', 'maketrans', 'partition', 'replace', 'rfind', 'rindex', 'rjust', 'rpartition', 'rsplit', 'rstrip', 'split', 'splitlines', 'startswith', 'strip', 'swapcase', 'title', 'translate', 'upper', 'zfill']\n",
      "S.translate(table) -> str\n",
      "\n",
      "Return a copy of the string S in which each character has been mapped\n",
      "through the given translation table. The table must implement\n",
      "lookup/indexing via __getitem__, for instance a dictionary or list,\n",
      "mapping Unicode ordinals to Unicode ordinals, strings, or None. If\n",
      "this operation raises LookupError, the character is left untouched.\n",
      "Characters mapped to None are deleted.\n"
     ]
    }
   ],
   "source": [
    "#Everthing is class and object in python\n",
    "#so is s is a object then it should have attributes and methods\n",
    "#dir is a function in python which show all attributes and methods of class\n",
    "s = \"Hello World!, Welcome to python string processing.\"\n",
    "print(\"Methods and Attributes of String in Python \")\n",
    "print(dir(s))\n",
    "print(s.translate.__doc__)"
   ]
  },
  {
   "cell_type": "markdown",
   "metadata": {},
   "source": [
    "# Some Basic Functions of String"
   ]
  },
  {
   "cell_type": "markdown",
   "metadata": {},
   "source": [
    "1. swapcase\n",
    "2. upper\n",
    "3. lower\n",
    "4. strip, lstrip, rstrip\n",
    "5. find\n",
    "6. replace\n",
    "7. format\n",
    "8. center\n",
    "\n"
   ]
  },
  {
   "cell_type": "code",
   "execution_count": 1,
   "metadata": {},
   "outputs": [
    {
     "name": "stdout",
     "output_type": "stream",
     "text": [
      "Enter a String : all dogs are not cat.\n",
      "all dogs are not cat.\n",
      "Swapcase :  ALL DOGS ARE NOT CAT.\n",
      "Upper :  ALL DOGS ARE NOT CAT.\n",
      "Lower :  all dogs are not cat.\n",
      "Strip :  all dogs are not cat.\n",
      "Enter pattern to search : cat\n",
      "Find Result :  17\n",
      "Enter new pattern to replace : real dogs\n",
      "Replace :  all dogs are not real dogs.\n",
      "Original String :  all dogs are not cat.\n",
      "String : all dogs are not cat. \n",
      "Pattern : cat \n",
      "New Pattern : real dogs\n",
      "*******************************************************************************************************************************************************************************************************************************************************************************************************************************************************************************************************************************************************all dogs are not cat.********************************************************************************************************************************************************************************************************************************************************************************************************************************************************************************************************************************************************\n"
     ]
    }
   ],
   "source": [
    "s = input(\"Enter a String : \")\n",
    "print(s)\n",
    "#swapcase used change upper letters into lower letters and vice versa\n",
    "#none of those function will not change the string\n",
    "print(\"Swapcase : \",s.swapcase())\n",
    "#change all letters into uppercase and return string\n",
    "print(\"Upper : \",s.upper())\n",
    "print(\"Lower : \",s.lower())\n",
    "#strip is used to remove all leading and trailing spaces from string\n",
    "#lstrip left space and rstrip rightspace\n",
    "print(\"Strip : \",s.strip())\n",
    "p = input(\"Enter pattern to search : \").strip().lower()\n",
    "print(\"Find Result : \",s.find(p))\n",
    "n = input(\"Enter new pattern to replace : \").strip().lower()\n",
    "print(\"Replace : \",s.replace(p,n))\n",
    "print(\"Original String : \",s)\n",
    "s = s.strip()\n",
    "#string formatting\n",
    "print(\"String : {} \\nPattern : {} \\nNew Pattern : {}\".format(s,p,n)) \n",
    "print(s.center(900,'*'))"
   ]
  },
  {
   "cell_type": "markdown",
   "metadata": {
    "collapsed": true
   },
   "source": [
    "# List Data Type in Python"
   ]
  },
  {
   "cell_type": "markdown",
   "metadata": {},
   "source": [
    "List is mutable data type in python so we can add or remove elements from the list.\n",
    "List is also a sequence data type .\n",
    "List is collection of different different data types or they can be similar\n",
    "in gernel we can a list is collection of items where items can any type of data type in python.\n",
    "\n"
   ]
  },
  {
   "cell_type": "code",
   "execution_count": 12,
   "metadata": {},
   "outputs": [
    {
     "name": "stdout",
     "output_type": "stream",
     "text": [
      "['hello', 'hi', 'how are you']\n",
      "how are you\n",
      "[45, 12, 67, 12, 43, 1, 6, 8]\n",
      "Items in original list :  13\n",
      "Reverse of List  [12, 33, 6, 8, 6, 1, 43, 12, 67, 12, 45, 23, 56]\n",
      "[33, 6, 8, 6, 1, 43, 12]\n"
     ]
    }
   ],
   "source": [
    "l = [ 'hello','hi','how are you' ] # Homogenous List\n",
    "print(l)\n",
    "print(l[2])\n",
    "l = [ 56,23,45,12,67,12,43,1,6,8,6,33,12] #HOmogenous list\n",
    "print(l[2:10])\n",
    "print(\"Items in original list : \",len(l))\n",
    "x = None \n",
    "y = None\n",
    "z = -1\n",
    "print(\"Reverse of List \",l[x:y:z])\n",
    "x = -2\n",
    "y = -9\n",
    "z = -1\n",
    "print(l[x:y:z])"
   ]
  },
  {
   "cell_type": "code",
   "execution_count": 13,
   "metadata": {},
   "outputs": [
    {
     "name": "stdout",
     "output_type": "stream",
     "text": [
      "Attributes and Methods of list : \n",
      "['__add__', '__class__', '__contains__', '__delattr__', '__delitem__', '__dir__', '__doc__', '__eq__', '__format__', '__ge__', '__getattribute__', '__getitem__', '__gt__', '__hash__', '__iadd__', '__imul__', '__init__', '__init_subclass__', '__iter__', '__le__', '__len__', '__lt__', '__mul__', '__ne__', '__new__', '__reduce__', '__reduce_ex__', '__repr__', '__reversed__', '__rmul__', '__setattr__', '__setitem__', '__sizeof__', '__str__', '__subclasshook__', 'append', 'clear', 'copy', 'count', 'extend', 'index', 'insert', 'pop', 'remove', 'reverse', 'sort']\n",
      "[56, 23, 45, 12, 67, 12, 43, 1, 6, 8, 6, 33, 12]\n"
     ]
    }
   ],
   "source": [
    "print(\"Attributes and Methods of list : \")\n",
    "print(dir(l))\n",
    "print(l)"
   ]
  },
  {
   "cell_type": "raw",
   "metadata": {},
   "source": [
    "Operation on a list\n",
    "to Add items\n",
    "1. append\n",
    "2. insert\n",
    "3. extend\n",
    "\n",
    "to Delete items\n",
    "1. pop\n",
    "2. remove\n",
    "\n",
    "to Common Operation\n",
    "\n",
    "1. sort\n",
    "2. copy\n",
    "3. reverse\n",
    "4. count\n",
    "5. index\n",
    "6. clear"
   ]
  },
  {
   "cell_type": "code",
   "execution_count": 14,
   "metadata": {},
   "outputs": [
    {
     "name": "stdout",
     "output_type": "stream",
     "text": [
      "[56, 23, 45, 12, 67, 12, 43, 1, 6, 8, 6, 33, 12]\n",
      "Sorted k :  [1, 6, 6, 8, 12, 12, 12, 23, 33, 43, 45, 56, 67]\n",
      "[1, 6, 6, 8, 12, 12, 12, 23, 33, 43, 45, 56, 67]\n",
      "Sorted l :  [67, 56, 45, 43, 33, 23, 12, 12, 12, 8, 6, 6, 1]\n"
     ]
    }
   ],
   "source": [
    "#Common Function on Python List\n",
    "#sort()-> it will sort list in accending ( list should be homogenous )\n",
    "#sort(reverse=True)->it will sort in decending order\n",
    "k = l\n",
    "print(k)\n",
    "k.sort()\n",
    "print(\"Sorted k : \",k)\n",
    "print(l)\n",
    "l.sort(reverse=True)\n",
    "print(\"Sorted l : \",l)"
   ]
  },
  {
   "cell_type": "code",
   "execution_count": 18,
   "metadata": {},
   "outputs": [
    {
     "name": "stdout",
     "output_type": "stream",
     "text": [
      "zebra apple something eye flag computer python\n",
      "apple computer eye flag python something zebra\n",
      "zebra apple something eye flag computer python\n",
      "zebra something python flag eye computer apple\n"
     ]
    }
   ],
   "source": [
    "l = [ 'zebra','apple','something','eye','flag','computer','python']\n",
    "k = [ 'zebra','apple','something','eye','flag','computer','python']\n",
    "print(*l)\n",
    "l.sort()\n",
    "print(*l)\n",
    "print(*k)\n",
    "k.sort(reverse=True)\n",
    "print(*k)\n"
   ]
  },
  {
   "cell_type": "code",
   "execution_count": 22,
   "metadata": {},
   "outputs": [
    {
     "name": "stdout",
     "output_type": "stream",
     "text": [
      "[['hi', 10, 32], ['abc', 100, 2, 3], ['something', 5, 6, 7, 8], ['popcorn', 9, 10, 11, 12]]\n",
      "[['abc', 100, 2, 3], ['hi', 10, 32], ['popcorn', 9, 10, 11, 12], ['something', 5, 6, 7, 8]]\n"
     ]
    }
   ],
   "source": [
    "mylist = [ \n",
    "    ['hi',10,32],\n",
    "    ['abc',100,2,3,],\n",
    "    ['something',5,6,7,8],\n",
    "    ['popcorn',9,10,11,12]\n",
    "]\n",
    "print(mylist)\n",
    "mylist.sort()\n",
    "print(mylist)"
   ]
  },
  {
   "cell_type": "code",
   "execution_count": 25,
   "metadata": {},
   "outputs": [
    {
     "name": "stdout",
     "output_type": "stream",
     "text": [
      "[1, 2, 3, 4, 5]\n",
      "[1, 2, 3, 4, 5]\n",
      "[1, 2, 5, 4, 5]\n"
     ]
    }
   ],
   "source": [
    "#copy\n",
    "l = [ 1,2,3,4,5]\n",
    "k = l.copy()\n",
    "z = l\n",
    "print(l)\n",
    "l[2]= 5\n",
    "print(k)\n",
    "print(z)\n"
   ]
  },
  {
   "cell_type": "code",
   "execution_count": 28,
   "metadata": {},
   "outputs": [
    {
     "name": "stdout",
     "output_type": "stream",
     "text": [
      "9\n",
      "63243\n",
      "1\n",
      "5\n"
     ]
    }
   ],
   "source": [
    "#index\n",
    "l = [ 12,3,4532,3213,45,423,453241,53,42,4542,4,63243,4542,5,34,3445,3,34,34,234,324]\n",
    "k = l.index(4542)\n",
    "print(k)\n",
    "print(l[k+2])\n",
    "l = [ 'hello','hi',12,23,23,[1,23],'hi']\n",
    "k = l.index('hi')\n",
    "j = l.index([1,23])\n",
    "print(k)\n",
    "print(j)"
   ]
  },
  {
   "cell_type": "code",
   "execution_count": 29,
   "metadata": {},
   "outputs": [
    {
     "name": "stdout",
     "output_type": "stream",
     "text": [
      "['hello', 'hi', 'bye', 1, 2, 3]\n",
      "[]\n"
     ]
    }
   ],
   "source": [
    "#clear\n",
    "mylist = [ 'hello','hi','bye',1,2,3]\n",
    "print(mylist)\n",
    "mylist.clear()\n",
    "print(mylist)"
   ]
  },
  {
   "cell_type": "code",
   "execution_count": 30,
   "metadata": {},
   "outputs": [
    {
     "name": "stdout",
     "output_type": "stream",
     "text": [
      "[1, 6, 3, 2, 1, 34, 64, 1, 3, 5654, 1, 344, 62, 1, 346, 3, 1, 35464, 1, 35235, 1, 4352, 3]\n",
      "4\n",
      "8\n"
     ]
    }
   ],
   "source": [
    "#count\n",
    "l = [ 1,6,3,2,1,34,64,1,3,5654,1,344,62,1,346,3,1,35464,1,35235,1,4352,3]\n",
    "print(l)\n",
    "x = l.count(3)\n",
    "y = l.count(1)\n",
    "print(x)\n",
    "print(y)"
   ]
  },
  {
   "cell_type": "code",
   "execution_count": 33,
   "metadata": {},
   "outputs": [
    {
     "name": "stdout",
     "output_type": "stream",
     "text": [
      "[7, 6, 5, 4, 3, 2, 1]\n",
      "[1, 2, 3, 4, 5, 6, 7]\n",
      "[7, 6, 5, 4, 3, 2, 1]\n"
     ]
    }
   ],
   "source": [
    "l = [ 1,2,3,4,5,6,7]\n",
    "x = l[::-1]\n",
    "print(x)\n",
    "print(l)\n",
    "l.reverse()\n",
    "print(l)"
   ]
  },
  {
   "cell_type": "code",
   "execution_count": 34,
   "metadata": {},
   "outputs": [
    {
     "name": "stdout",
     "output_type": "stream",
     "text": [
      "['hi', 3.14, 'how', 'item']\n",
      "['hi', 3.14, 'how', 'item', 122335]\n",
      "['hi', 3.14, 'how', 'item', 122335, [9, 8, 7, 6, 5, 4, 3]]\n"
     ]
    }
   ],
   "source": [
    "#append(item)\n",
    "l = [ 'hi',3.14,'how']\n",
    "l.append('item')\n",
    "print(l)\n",
    "l.append(122335)\n",
    "print(l)\n",
    "k = [ 9,8,7,6,5,4,3,]\n",
    "l.append(k)\n",
    "print(l)\n"
   ]
  },
  {
   "cell_type": "code",
   "execution_count": 36,
   "metadata": {},
   "outputs": [
    {
     "name": "stdout",
     "output_type": "stream",
     "text": [
      "['hello', 3.14, 'hi', 1452, 432423, 434, 234]\n"
     ]
    }
   ],
   "source": [
    "#insert(index,item)\n",
    "l = [ 'hello', 3.14,1452,432423,434,234]\n",
    "l.insert(2,'hi')\n",
    "print(l)"
   ]
  },
  {
   "cell_type": "code",
   "execution_count": 37,
   "metadata": {},
   "outputs": [
    {
     "name": "stdout",
     "output_type": "stream",
     "text": [
      "['p', 'y', 't', 'h', 'o', 'n']\n"
     ]
    }
   ],
   "source": [
    "#extend(sequence)\n",
    "l = []\n",
    "l.extend('python')\n",
    "print(l)\n"
   ]
  },
  {
   "cell_type": "code",
   "execution_count": 38,
   "metadata": {},
   "outputs": [
    {
     "name": "stdout",
     "output_type": "stream",
     "text": [
      "['java', 'c', 'c++', 'python']\n"
     ]
    }
   ],
   "source": [
    "l = []\n",
    "k = [ 'java','c','c++','python']\n",
    "l.extend(k)\n",
    "print(l)"
   ]
  },
  {
   "cell_type": "code",
   "execution_count": 40,
   "metadata": {},
   "outputs": [
    {
     "name": "stdout",
     "output_type": "stream",
     "text": [
      "[5, 6, 67, 5324, 324]\n",
      "Item  324 is deleted from list\n",
      "[5, 6, 67, 5324]\n"
     ]
    }
   ],
   "source": [
    "#delelete from list\n",
    "l = [ 5,6,67,5324,324\n",
    "    ]\n",
    "print(l)\n",
    "x = l.pop() #just opposite of append\n",
    "print(\"Item \",x,\"is deleted from list\")\n",
    "print(l)"
   ]
  },
  {
   "cell_type": "code",
   "execution_count": 42,
   "metadata": {},
   "outputs": [
    {
     "name": "stdout",
     "output_type": "stream",
     "text": [
      "[10, 9, 9, 34, 2, 43213, 21]\n",
      "item at index 5 is 43213 is deleted\n",
      "[10, 9, 9, 34, 2, 21]\n"
     ]
    }
   ],
   "source": [
    "#pop(index)\n",
    "l = [10,9,9,34,2,43213,21]\n",
    "print(l)\n",
    "k = l.pop(5)\n",
    "print(\"item at index 5 is {} is deleted\".format(k))\n",
    "print(l)"
   ]
  },
  {
   "cell_type": "code",
   "execution_count": 44,
   "metadata": {},
   "outputs": [
    {
     "name": "stdout",
     "output_type": "stream",
     "text": [
      "['hi', 'hello', 'how are you', 'hi', 'hi']\n",
      "['hello', 'how are you', 'hi', 'hi']\n"
     ]
    }
   ],
   "source": [
    "#remove(item)\n",
    "l = [ 'hi','hello','how are you','hi','hi']\n",
    "print(l)\n",
    "l.remove('hi')\n",
    "print(l)"
   ]
  },
  {
   "cell_type": "markdown",
   "metadata": {},
   "source": [
    "# Tuple"
   ]
  },
  {
   "cell_type": "markdown",
   "metadata": {},
   "source": [
    "Tuple is a immutable data type.\n",
    "it is similar to list except we can change anything in tuple after declaration."
   ]
  },
  {
   "cell_type": "code",
   "execution_count": 46,
   "metadata": {},
   "outputs": [
    {
     "name": "stdout",
     "output_type": "stream",
     "text": [
      "(5, 6, 7)\n",
      "<class 'tuple'>\n",
      "['__add__', '__class__', '__contains__', '__delattr__', '__dir__', '__doc__', '__eq__', '__format__', '__ge__', '__getattribute__', '__getitem__', '__getnewargs__', '__gt__', '__hash__', '__init__', '__init_subclass__', '__iter__', '__le__', '__len__', '__lt__', '__mul__', '__ne__', '__new__', '__reduce__', '__reduce_ex__', '__repr__', '__rmul__', '__setattr__', '__sizeof__', '__str__', '__subclasshook__', 'count', 'index']\n"
     ]
    },
    {
     "ename": "TypeError",
     "evalue": "'tuple' object does not support item assignment",
     "output_type": "error",
     "traceback": [
      "\u001b[1;31m---------------------------------------------------------------------------\u001b[0m",
      "\u001b[1;31mTypeError\u001b[0m                                 Traceback (most recent call last)",
      "\u001b[1;32m<ipython-input-46-507cfd4d7e49>\u001b[0m in \u001b[0;36m<module>\u001b[1;34m()\u001b[0m\n\u001b[0;32m      3\u001b[0m \u001b[0mprint\u001b[0m\u001b[1;33m(\u001b[0m\u001b[0mtype\u001b[0m\u001b[1;33m(\u001b[0m\u001b[0mt\u001b[0m\u001b[1;33m)\u001b[0m\u001b[1;33m)\u001b[0m\u001b[1;33m\u001b[0m\u001b[0m\n\u001b[0;32m      4\u001b[0m \u001b[0mprint\u001b[0m\u001b[1;33m(\u001b[0m\u001b[0mdir\u001b[0m\u001b[1;33m(\u001b[0m\u001b[0mt\u001b[0m\u001b[1;33m)\u001b[0m\u001b[1;33m)\u001b[0m\u001b[1;33m\u001b[0m\u001b[0m\n\u001b[1;32m----> 5\u001b[1;33m \u001b[0mt\u001b[0m\u001b[1;33m[\u001b[0m\u001b[1;36m1\u001b[0m\u001b[1;33m]\u001b[0m \u001b[1;33m=\u001b[0m \u001b[1;36m6\u001b[0m\u001b[1;33m\u001b[0m\u001b[0m\n\u001b[0m",
      "\u001b[1;31mTypeError\u001b[0m: 'tuple' object does not support item assignment"
     ]
    }
   ],
   "source": [
    "t = ( 5,6,7)\n",
    "print(t)\n",
    "print(type(t))\n",
    "print(dir(t))\n"
   ]
  },
  {
   "cell_type": "code",
   "execution_count": 48,
   "metadata": {},
   "outputs": [
    {
     "name": "stdout",
     "output_type": "stream",
     "text": [
      "('hi', 'hello')\n",
      "('bye', 1, 2, 3)\n",
      "('hi', 'hello', 'bye', 1, 2, 3)\n",
      "[1, 2, 3]\n",
      "[4, 5, 6]\n",
      "[1, 2, 3, 4, 5, 6]\n"
     ]
    }
   ],
   "source": [
    "l1 = [ 1,2,3]\n",
    "l2 = [4,5,6]\n",
    "t1 = ('hi','hello')\n",
    "t2 = ('bye',1,2,3)\n",
    "t3 = t1 + t2\n",
    "print(t1)\n",
    "print(t2)\n",
    "print(t3)\n",
    "l3 = l1+l2\n",
    "print(l1)\n",
    "print(l2)\n",
    "print(l3)"
   ]
  },
  {
   "cell_type": "code",
   "execution_count": 49,
   "metadata": {},
   "outputs": [
    {
     "name": "stdout",
     "output_type": "stream",
     "text": [
      "[1, 2, 3, 1, 2, 3, 1, 2, 3, 1, 2, 3, 1, 2, 3]\n"
     ]
    }
   ],
   "source": [
    "l = [1,2,3]\n",
    "print(l*5)"
   ]
  },
  {
   "cell_type": "markdown",
   "metadata": {},
   "source": [
    "# Dictionary"
   ]
  },
  {
   "cell_type": "markdown",
   "metadata": {},
   "source": [
    "it combination of keys and values"
   ]
  },
  {
   "cell_type": "code",
   "execution_count": 55,
   "metadata": {},
   "outputs": [
    {
     "name": "stdout",
     "output_type": "stream",
     "text": [
      "{'name': 'python', 'build_year': 1991, 'Father of Python': 'Guido Van Rossum', 'Frame_works': ['Django', 'Flask', 'Web2PY', 'Torando', 'kivi'], 'versions': [1.0, 2.0, 3.0], 'latest_version': 3.6}\n",
      "Name :  python\n",
      "Frame Works :  ['Django', 'Flask', 'Web2PY', 'Torando', 'kivi']\n",
      "['__class__', '__contains__', '__delattr__', '__delitem__', '__dir__', '__doc__', '__eq__', '__format__', '__ge__', '__getattribute__', '__getitem__', '__gt__', '__hash__', '__init__', '__init_subclass__', '__iter__', '__le__', '__len__', '__lt__', '__ne__', '__new__', '__reduce__', '__reduce_ex__', '__repr__', '__setattr__', '__setitem__', '__sizeof__', '__str__', '__subclasshook__', 'clear', 'copy', 'fromkeys', 'get', 'items', 'keys', 'pop', 'popitem', 'setdefault', 'update', 'values']\n"
     ]
    }
   ],
   "source": [
    "mydict = { \n",
    "    'name':'python',\n",
    "    'build_year':1991,\n",
    "    'Father of Python':\"Guido Van Rossum\",\n",
    "    'Frame_works':['Django','Flask','Web2PY','Torando','kivi'],\n",
    "    'versions' : [1.0,2.0,3.0],\n",
    "    'latest_version':3.6,\n",
    "    }\n",
    "print(mydict)\n",
    "print(\"Name : \",mydict['name'])\n",
    "print(\"Frame Works : \",mydict['Frame_works'])\n",
    "print(dir(mydict))"
   ]
  },
  {
   "cell_type": "code",
   "execution_count": 58,
   "metadata": {},
   "outputs": [
    {
     "name": "stdout",
     "output_type": "stream",
     "text": [
      "[1.0, 2.0, 3.0]\n",
      "dict_items([('name', 'python'), ('build_year', 1991), ('Father of Python', 'Guido Van Rossum'), ('Frame_works', ['Django', 'Flask', 'Web2PY', 'Torando', 'kivi']), ('versions', [1.0, 2.0, 3.0]), ('latest_version', 3.6)])\n",
      "dict_keys(['name', 'build_year', 'Father of Python', 'Frame_works', 'versions', 'latest_version'])\n",
      "dict_values(['python', 1991, 'Guido Van Rossum', ['Django', 'Flask', 'Web2PY', 'Torando', 'kivi'], [1.0, 2.0, 3.0], 3.6])\n"
     ]
    }
   ],
   "source": [
    "k = mydict.get('versions')\n",
    "print(k)\n",
    "print(mydict.items())\n",
    "print(mydict.keys())\n",
    "print(mydict.values())"
   ]
  },
  {
   "cell_type": "code",
   "execution_count": 59,
   "metadata": {},
   "outputs": [
    {
     "name": "stdout",
     "output_type": "stream",
     "text": [
      "{'name': 'Python Programming Language', 'build_year': 1991, 'Father of Python': 'Guido Van Rossum', 'Frame_works': ['Django', 'Flask', 'Web2PY', 'Torando', 'kivi'], 'versions': [1.0, 2.0, 3.0], 'latest_version': 3.6, 'scope': 'World Wide'}\n"
     ]
    }
   ],
   "source": [
    "mydict['scope']  = 'World Wide'\n",
    "mydict['name'] = \"Python Programming Language\"\n",
    "print(mydict)"
   ]
  },
  {
   "cell_type": "markdown",
   "metadata": {},
   "source": [
    "# Sets"
   ]
  },
  {
   "cell_type": "code",
   "execution_count": 62,
   "metadata": {},
   "outputs": [
    {
     "name": "stdout",
     "output_type": "stream",
     "text": [
      "Set1 =  {1, 2, 3, 4, 5}\n",
      "Set2 =  {4, 5, 6, 7, 8}\n",
      "['__and__', '__class__', '__contains__', '__delattr__', '__dir__', '__doc__', '__eq__', '__format__', '__ge__', '__getattribute__', '__gt__', '__hash__', '__iand__', '__init__', '__init_subclass__', '__ior__', '__isub__', '__iter__', '__ixor__', '__le__', '__len__', '__lt__', '__ne__', '__new__', '__or__', '__rand__', '__reduce__', '__reduce_ex__', '__repr__', '__ror__', '__rsub__', '__rxor__', '__setattr__', '__sizeof__', '__str__', '__sub__', '__subclasshook__', '__xor__', 'add', 'clear', 'copy', 'difference', 'difference_update', 'discard', 'intersection', 'intersection_update', 'isdisjoint', 'issubset', 'issuperset', 'pop', 'remove', 'symmetric_difference', 'symmetric_difference_update', 'union', 'update']\n",
      "Union of s1 and s2  =  {1, 2, 3, 4, 5, 6, 7, 8}\n",
      "Intersection of s1 and s2 =  {4, 5}\n",
      "Difference of s1 with s2 =  {1, 2, 3}\n"
     ]
    }
   ],
   "source": [
    "s1 = { 1,1,1,1,1,1,1,1,1,2,3,4,5}\n",
    "s2 = { 4,5,6,7,8}\n",
    "print(\"Set1 = \",s1)\n",
    "print(\"Set2 = \",s2)\n",
    "print(dir(s2))\n",
    "print(\"Union of s1 and s2  = \",s1.union(s2))\n",
    "print(\"Intersection of s1 and s2 = \",s1.intersection(s2))\n",
    "print(\"Difference of s1 with s2 = \",s1.difference(s2))"
   ]
  },
  {
   "cell_type": "code",
   "execution_count": null,
   "metadata": {
    "collapsed": true
   },
   "outputs": [],
   "source": []
  }
 ],
 "metadata": {
  "kernelspec": {
   "display_name": "Python 3",
   "language": "python",
   "name": "python3"
  },
  "language_info": {
   "codemirror_mode": {
    "name": "ipython",
    "version": 3
   },
   "file_extension": ".py",
   "mimetype": "text/x-python",
   "name": "python",
   "nbconvert_exporter": "python",
   "pygments_lexer": "ipython3",
   "version": "3.6.4"
  }
 },
 "nbformat": 4,
 "nbformat_minor": 2
}
