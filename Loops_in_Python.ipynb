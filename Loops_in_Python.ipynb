{
 "cells": [
  {
   "cell_type": "markdown",
   "metadata": {},
   "source": [
    "# Loops in Python"
   ]
  },
  {
   "cell_type": "markdown",
   "metadata": {},
   "source": [
    "1. While\n",
    "2. For"
   ]
  },
  {
   "cell_type": "code",
   "execution_count": null,
   "metadata": {},
   "outputs": [],
   "source": [
    "while False :\n",
    "    print(\"Hello World\")"
   ]
  },
  {
   "cell_type": "code",
   "execution_count": null,
   "metadata": {},
   "outputs": [],
   "source": [
    "c = 1\n",
    "while c <= 10 :\n",
    "    print(\"Hello World!\")\n",
    "    c = c + 1\n",
    "print(\"Python is Awesome\")"
   ]
  },
  {
   "cell_type": "code",
   "execution_count": 5,
   "metadata": {},
   "outputs": [
    {
     "name": "stdout",
     "output_type": "stream",
     "text": [
      "1, 2, 3, 4, 5, 6, 7, 8, 9, 10, 11, 12, 13, 14, 15, 16, 17, 18, 19, 20, 21, 22, 23, 24, 25, 26, 27, 28, 29, 30, 31, 32, 33, 34, 35, 36, 37, 38, 39, 40, 41, 42, 43, 44, 45, 46, 47, 48, 49, 50, 51, 52, 53, 54, 55, 56, 57, 58, 59, 60, 61, 62, 63, 64, 65, 66, 67, 68, 69, 70, 71, 72, 73, 74, 75, 76, 77, 78, 79, 80, 81, 82, 83, 84, 85, 86, 87, 88, 89, 90, 91, 92, 93, 94, 95, 96, 97, 98, 99, 100, "
     ]
    }
   ],
   "source": [
    "c = 1\n",
    "while c <= 100 :\n",
    "    print(c,end=', ')\n",
    "    c = c + 1"
   ]
  },
  {
   "cell_type": "code",
   "execution_count": 6,
   "metadata": {},
   "outputs": [
    {
     "name": "stdout",
     "output_type": "stream",
     "text": [
      "100\t99\t98\t97\t96\t95\t94\t93\t92\t91\t90\t89\t88\t87\t86\t85\t84\t83\t82\t81\t80\t79\t78\t77\t76\t75\t74\t73\t72\t71\t70\t69\t68\t67\t66\t65\t64\t63\t62\t61\t60\t59\t58\t57\t56\t55\t54\t53\t52\t51\t50\t49\t48\t47\t46\t45\t44\t43\t42\t41\t40\t39\t38\t37\t36\t35\t34\t33\t32\t31\t30\t29\t28\t27\t26\t25\t24\t23\t22\t21\t20\t19\t18\t17\t16\t15\t14\t13\t12\t11\t10\t9\t8\t7\t6\t5\t4\t3\t2\t1\t"
     ]
    }
   ],
   "source": [
    "c = 100\n",
    "while c >= 1 :\n",
    "    print(c,end='\\t')\n",
    "    c = c - 1"
   ]
  },
  {
   "cell_type": "code",
   "execution_count": null,
   "metadata": {},
   "outputs": [],
   "source": [
    "num = int(input(\"Enter number : \"))\n",
    "c = 1\n",
    "while c <= 10 :\n",
    "    print(\"{:5}\\tx{:5}\\t={:5}\".format(num,c,num*c))\n",
    "    c = c + 1"
   ]
  },
  {
   "cell_type": "code",
   "execution_count": null,
   "metadata": {},
   "outputs": [],
   "source": [
    "s = 0\n",
    "num = int(input(\"Enter a Number : \"))\n",
    "c = 1 \n",
    "while c <= 10 :\n",
    "    s = s + num\n",
    "    print(s)\n",
    "    c = c + 1\n",
    "    "
   ]
  },
  {
   "cell_type": "code",
   "execution_count": 10,
   "metadata": {},
   "outputs": [
    {
     "name": "stdout",
     "output_type": "stream",
     "text": [
      "Player1: ········\n",
      "Player2: ········\n",
      "Player2 is the Winner\n",
      "Do want to continue (y/n) : y\n",
      "Player1: ········\n",
      "Player2: ········\n",
      "Player2 is the Winner\n",
      "Do want to continue (y/n) : y\n",
      "Player1: ········\n",
      "Player2: ········\n",
      "Player1 is the Winner\n",
      "Do want to continue (y/n) : n\n"
     ]
    }
   ],
   "source": [
    "p1 = [ ('r','s'),('p','r'),('s','p')]\n",
    "from getpass import getpass\n",
    "while True :\n",
    "    ch1 = getpass(\"Player1: \")\n",
    "    ch2 = getpass(\"Player2: \")\n",
    "    if ch1 == ch2 : \n",
    "        print(\"Match Tie\")\n",
    "    elif (ch1,ch2) in p1 :\n",
    "        print(\"Player1 is the Winner\")\n",
    "    else :\n",
    "        print(\"Player2 is the Winner\")\n",
    "    \n",
    "    ch = input(\"Do want to continue (y/n) : \").strip().lower()\n",
    "    if ch == 'y' or ch == 'yes' :\n",
    "        continue\n",
    "    else :\n",
    "        break"
   ]
  },
  {
   "cell_type": "code",
   "execution_count": 11,
   "metadata": {},
   "outputs": [
    {
     "name": "stdout",
     "output_type": "stream",
     "text": [
      "Player2: p\n",
      "Match Tie\n",
      "Do want to continue (y/n) : y\n",
      "Player2: r\n",
      "Computer Choice was :  s\n",
      "Player Choice was :  r\n",
      "Player2 is the Winner\n",
      "Do want to continue (y/n) : y\n",
      "Player2: p\n",
      "Match Tie\n",
      "Do want to continue (y/n) : n\n"
     ]
    }
   ],
   "source": [
    "p1 = [ ('r','s'),('p','r'),('s','p')]\n",
    "from random import choice\n",
    "while True :\n",
    "    ch1 = choice(['r','p','s'])\n",
    "    ch2 = input(\"Player2: \")\n",
    "    if ch1 == ch2 : \n",
    "        print(\"Match Tie\")\n",
    "    elif (ch1,ch2) in p1 :\n",
    "        print(\"Computer Choice was : \",ch1)\n",
    "        print(\"Player Choice was : \",ch2)\n",
    "        print(\"Player1 is the Winner\")\n",
    "    else :\n",
    "        print(\"Computer Choice was : \",ch1)\n",
    "        print(\"Player Choice was : \",ch2)\n",
    "        print(\"Player2 is the Winner\")\n",
    "    \n",
    "    ch = input(\"Do want to continue (y/n) : \").strip().lower()\n",
    "    if ch == 'y' or ch == 'yes' :\n",
    "        continue\n",
    "    else :\n",
    "        break"
   ]
  },
  {
   "cell_type": "code",
   "execution_count": 13,
   "metadata": {},
   "outputs": [
    {
     "name": "stdout",
     "output_type": "stream",
     "text": [
      "1\n",
      "2\n",
      "3\n",
      "4\n",
      "5\n",
      "Enter yes to continue : y\n",
      "1\n",
      "2\n",
      "3\n",
      "4\n",
      "5\n",
      "Enter yes to continue : no\n"
     ]
    }
   ],
   "source": [
    "from random import randrange\n",
    "while True :\n",
    "    c = 1\n",
    "    while c <= 5 :\n",
    "        print(c)\n",
    "        c = c + 1\n",
    "    \n",
    "    ch = input(\"Enter yes to continue : \").strip().lower()\n",
    "    if ch == 'y' or ch == 'yes' :\n",
    "        continue\n",
    "    else :\n",
    "        break"
   ]
  },
  {
   "cell_type": "code",
   "execution_count": 16,
   "metadata": {},
   "outputs": [
    {
     "name": "stdout",
     "output_type": "stream",
     "text": [
      "Your Guess(1,50) : 25\n",
      "Be in Limits Think Lower\n",
      "Your Guess(1,50) : 13\n",
      "Be Big Think Bigger\n",
      "Your Guess(1,50) : 20\n",
      "Be in Limits Think Lower\n",
      "Your Guess(1,50) : 16\n",
      "Be Big Think Bigger\n",
      "Your Guess(1,50) : 18\n",
      "Be Big Think Bigger\n",
      "Computer Guess :  19\n",
      "You such a looser\n",
      "Do want to play again (y/n) : n\n"
     ]
    }
   ],
   "source": [
    "from random import randrange\n",
    "while True :\n",
    "    c = 1\n",
    "    com_guess = randrange(1,50)\n",
    "    while c <= 5 :\n",
    "        user_guess = int(input(\"Your Guess(1,50) : \"))\n",
    "        if user_guess > 50 or user_guess < 1 :\n",
    "            print(\"You Idiot only 1-50 \")\n",
    "            continue\n",
    "        else : \n",
    "            if user_guess < com_guess :\n",
    "                print(\"Be Big Think Bigger\")\n",
    "            elif user_guess > com_guess :\n",
    "                print(\"Be in Limits Think Lower\")\n",
    "            else :\n",
    "                print(\"Computer Guess : \",com_guess)\n",
    "                print(\"You have won the Game : \")\n",
    "                break\n",
    "        if c == 5 :\n",
    "            print(\"Computer Guess : \",com_guess)\n",
    "            print(\"You such a looser\")\n",
    "        c = c + 1\n",
    "    \n",
    "    ch = input(\"Do want to play again (y/n) : \").strip().lower()\n",
    "    if ch == 'y' or ch == 'yes' :\n",
    "        continue\n",
    "    else :\n",
    "        break"
   ]
  },
  {
   "cell_type": "code",
   "execution_count": null,
   "metadata": {
    "collapsed": true
   },
   "outputs": [],
   "source": []
  }
 ],
 "metadata": {
  "kernelspec": {
   "display_name": "Python 3",
   "language": "python",
   "name": "python3"
  },
  "language_info": {
   "codemirror_mode": {
    "name": "ipython",
    "version": 3
   },
   "file_extension": ".py",
   "mimetype": "text/x-python",
   "name": "python",
   "nbconvert_exporter": "python",
   "pygments_lexer": "ipython3",
   "version": "3.6.4"
  }
 },
 "nbformat": 4,
 "nbformat_minor": 2
}
