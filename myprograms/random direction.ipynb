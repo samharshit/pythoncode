{
 "cells": [
  {
   "cell_type": "code",
   "execution_count": 4,
   "metadata": {},
   "outputs": [
    {
     "ename": "SyntaxError",
     "evalue": "invalid syntax (<ipython-input-4-8ba5119156ab>, line 9)",
     "output_type": "error",
     "traceback": [
      "\u001b[1;36m  File \u001b[1;32m\"<ipython-input-4-8ba5119156ab>\"\u001b[1;36m, line \u001b[1;32m9\u001b[0m\n\u001b[1;33m    l2=int((input(\"distance in d2:\"))\u001b[0m\n\u001b[1;37m     ^\u001b[0m\n\u001b[1;31mSyntaxError\u001b[0m\u001b[1;31m:\u001b[0m invalid syntax\n"
     ]
    }
   ],
   "source": [
    "import math\n",
    "\n",
    "def distance(d1,d2,l1,l2):\n",
    "    Distance=(math.pow(l1,2)+math.pow(l2,2))\n",
    "    print(\"distance from home : \",math.sqrt(Distance))\n",
    "d1=input(\"enter direction 1:\")\n",
    "d2=input(\"enter direction 2:\")\n",
    "l1=int((input(\"distance in d1:\"))\n",
    "l2=int((input(\"distance in d2:\"))\n",
    "distance(d1,d2,l1,l2)\n",
    "           "
   ]
  },
  {
   "cell_type": "code",
   "execution_count": 3,
   "metadata": {},
   "outputs": [
    {
     "name": "stdout",
     "output_type": "stream",
     "text": [
      "25\n"
     ]
    }
   ],
   "source": [
    "import math\n",
    "a=25\n",
    "b=math.sqrt(a)\n",
    "print(a)"
   ]
  },
  {
   "cell_type": "code",
   "execution_count": null,
   "metadata": {},
   "outputs": [],
   "source": []
  },
  {
   "cell_type": "code",
   "execution_count": null,
   "metadata": {},
   "outputs": [],
   "source": []
  }
 ],
 "metadata": {
  "kernelspec": {
   "display_name": "Python 3",
   "language": "python",
   "name": "python3"
  },
  "language_info": {
   "codemirror_mode": {
    "name": "ipython",
    "version": 3
   },
   "file_extension": ".py",
   "mimetype": "text/x-python",
   "name": "python",
   "nbconvert_exporter": "python",
   "pygments_lexer": "ipython3",
   "version": "3.6.4"
  }
 },
 "nbformat": 4,
 "nbformat_minor": 2
}
