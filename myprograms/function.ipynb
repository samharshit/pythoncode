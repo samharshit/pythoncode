{
 "cells": [
  {
   "cell_type": "markdown",
   "metadata": {},
   "source": [
    "#function"
   ]
  },
  {
   "cell_type": "markdown",
   "metadata": {},
   "source": [
    "set of statesmentfor doing specific tasks\n",
    "1.definition -: def func_name(argument):\n",
    "                           s1\n",
    "                           s2\n",
    "                           loop1\n",
    "                           s3\n",
    "                           loop2\n",
    "                           return()\n",
    "\n",
    "2.caliing            \n",
    "\n"
   ]
  },
  {
   "cell_type": "code",
   "execution_count": 2,
   "metadata": {},
   "outputs": [],
   "source": [
    "def hello():\n",
    "    name=(input(\"enter your name:\"))\n",
    "    print(\"welcom{}\".format(name))\n"
   ]
  },
  {
   "cell_type": "code",
   "execution_count": 3,
   "metadata": {},
   "outputs": [
    {
     "name": "stdout",
     "output_type": "stream",
     "text": [
      "enter your name:harshit\n",
      "welcomharshit\n",
      "None\n"
     ]
    }
   ],
   "source": [
    "x=hello()\n",
    "print(x)"
   ]
  },
  {
   "cell_type": "code",
   "execution_count": 4,
   "metadata": {},
   "outputs": [
    {
     "name": "stdout",
     "output_type": "stream",
     "text": [
      "function calling starts\n",
      "enter your name:harshit\n",
      "welcomharshit\n",
      "function caliing ends\n",
      "None\n"
     ]
    }
   ],
   "source": [
    "print(\"function calling starts\")\n",
    "x=hello()\n",
    "print(\"function caliing ends\")\n",
    "print(x)"
   ]
  },
  {
   "cell_type": "code",
   "execution_count": null,
   "metadata": {},
   "outputs": [],
   "source": [
    "def calc(x,y,ch):\n",
    "    ch=ch\n",
    "    if ch==\"+\":\n",
    "        return x+y\n",
    "    elif ch==\"-\":\n",
    "        return x-y\n",
    "    elif ch==\"*\":\n",
    "        return x*y\n",
    "    elif ch==\"/\" or ch==\"%\" or ch==\"//\":\n",
    "        if y==0:\n",
    "            print(\"invalid input\")\n",
    "        elif ch==\"/\":\n",
    "            return x/y\n",
    "        elif ch==\"%\":\n",
    "            return x%y\n",
    "        elif ch==\"//\":\n",
    "            return x//y\n",
    "    elif ch== \"**\":\n",
    "        return x**y\n",
    "    else:\n",
    "        return \"invalid input\"\n",
    "\n",
    "        "
   ]
  },
  {
   "cell_type": "code",
   "execution_count": null,
   "metadata": {},
   "outputs": [
    {
     "name": "stdout",
     "output_type": "stream",
     "text": [
      "\t\tPython\tCaclulator \n",
      "enter y to enter or n to exit : y\n",
      "enter value 1\n",
      "4\n",
      "enter value 1\n",
      "2\n",
      "enter +,-,/,//,%,**\n",
      "**\n",
      "\n",
      "result :  16\n"
     ]
    }
   ],
   "source": [
    "print(\"\\t\\tPython\\tCaclulator \")\n",
    "\n",
    "while True:\n",
    "    n=input(\"enter y to enter or n to exit : \").strip().lower()\n",
    "    if n=='y' or n=='yes':\n",
    "        x=int(input(\"enter value 1\\n\"))\n",
    "        y=int(input(\"enter value 1\\n\"))\n",
    "        ch=input(\"enter +,-,/,//,%,**\\n\")\n",
    "        print(\"\\nresult : \",calc(x,y,ch))\n",
    "    elif n==\"n\" or n==\"no\":\n",
    "        print(\"\\n bye bye\")y\n",
    "        break\n",
    "    else :\n",
    "        print(\"invalid input\")\n",
    "        \n",
    "    "
   ]
  },
  {
   "cell_type": "code",
   "execution_count": 15,
   "metadata": {},
   "outputs": [],
   "source": [
    "def rint(a,b):\n",
    "    print(\"value of a: \",a)\n",
    "    print(\"value of a: \",b)\n",
    "   # return a+b\n",
    "    \n",
    "    \n",
    "    \n",
    "    \n",
    "    \n"
   ]
  },
  {
   "cell_type": "code",
   "execution_count": 16,
   "metadata": {},
   "outputs": [
    {
     "name": "stdout",
     "output_type": "stream",
     "text": [
      "value of a:  3\n",
      "value of a:  5\n",
      "sum :  None\n"
     ]
    }
   ],
   "source": [
    "sum=rint(3,5)\n",
    "print(\"sum : \",sum)"
   ]
  },
  {
   "cell_type": "code",
   "execution_count": 3,
   "metadata": {},
   "outputs": [
    {
     "data": {
      "text/plain": [
       "[1, 3, 5, 7]"
      ]
     },
     "execution_count": 3,
     "metadata": {},
     "output_type": "execute_result"
    }
   ],
   "source": [
    "\n",
    "list(filter(lambda x: x%2!=0,x))\n"
   ]
  },
  {
   "cell_type": "code",
   "execution_count": null,
   "metadata": {},
   "outputs": [],
   "source": []
  }
 ],
 "metadata": {
  "kernelspec": {
   "display_name": "Python 3",
   "language": "python",
   "name": "python3"
  },
  "language_info": {
   "codemirror_mode": {
    "name": "ipython",
    "version": 3
   },
   "file_extension": ".py",
   "mimetype": "text/x-python",
   "name": "python",
   "nbconvert_exporter": "python",
   "pygments_lexer": "ipython3",
   "version": "3.6.4"
  }
 },
 "nbformat": 4,
 "nbformat_minor": 2
}
