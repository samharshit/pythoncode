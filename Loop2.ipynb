{
 "cells": [
  {
   "cell_type": "markdown",
   "metadata": {},
   "source": [
    "loop 2"
   ]
  },
  {
   "cell_type": "code",
   "execution_count": 4,
   "metadata": {},
   "outputs": [
    {
     "name": "stdout",
     "output_type": "stream",
     "text": [
      "Enter total number : 3\n",
      "Enter number 1: 34\n",
      "Enter number 2: 23\n",
      "Enter number 3: 56\n",
      "[34, 23, 56]\n"
     ]
    }
   ],
   "source": [
    "l = []\n",
    "c = 1\n",
    "num = int(input(\"Enter total number : \"))\n",
    "while c <= num :\n",
    "    x = int(input(\"Enter number {}: \".format(c)))\n",
    "    l.append(x)\n",
    "    c = c + 1\n",
    "print(l)"
   ]
  },
  {
   "cell_type": "code",
   "execution_count": null,
   "metadata": {},
   "outputs": [],
   "source": [
    "import math\n",
    "s = int(input(\"Enter starting point : \"))\n",
    "e = int(input(\"Enter Ending Point : \"))\n",
    "total_prime = 0\n",
    "while s <= e :\n",
    "    num = s\n",
    "    end = int(math.sqrt(num)) + 1\n",
    "    start = 2\n",
    "    while start <= end :\n",
    "        if num % start == 0 :\n",
    "            break\n",
    "        start = start + 1\n",
    "    else :\n",
    "        total_prime += 1\n",
    "        print(num,end='\\t') #to apply tab space between output\n",
    "    s = s + 1\n",
    "print(\"\\nTotal Prime : \",total_prime)"
   ]
  },
  {
   "cell_type": "code",
   "execution_count": 1,
   "metadata": {},
   "outputs": [
    {
     "name": "stdout",
     "output_type": "stream",
     "text": [
      "Enter starting point : 1\n",
      "Enter Ending Point : 36\n",
      "1\t3\t5\t7\t11\t13\t17\t19\t23\t29\t31\t\n",
      "Total Prime :  11\n"
     ]
    }
   ],
   "source": [
    "import math\n",
    "s = int(input(\"Enter starting point : \"))\n",
    "e = int(input(\"Enter Ending Point : \"))\n",
    "total_prime = 0\n",
    "for k in range(s,e+1):\n",
    "    num = k\n",
    "    end = int(math.sqrt(num)) + 1\n",
    "    start = 2\n",
    "    for t in range(start,end+1) :\n",
    "        if num % t == 0 :\n",
    "            break\n",
    "        \n",
    "    else :\n",
    "        total_prime += 1\n",
    "        print(num,end='\\t')\n",
    "print(\"\\nTotal Prime : \",total_prime)"
   ]
  },
  {
   "cell_type": "code",
   "execution_count": 11,
   "metadata": {},
   "outputs": [
    {
     "name": "stdout",
     "output_type": "stream",
     "text": [
      "-30 -27 -24 -21 -18 -15 -12 -9 -6 -3\n"
     ]
    }
   ],
   "source": [
    "print(*range(-30,-1,3))"
   ]
  },
  {
   "cell_type": "code",
   "execution_count": 12,
   "metadata": {},
   "outputs": [
    {
     "name": "stdout",
     "output_type": "stream",
     "text": [
      "100 95 90 85 80 75 70 65 60 55 50 45 40 35 30 25 20 15 10 5 0 -5 -10 -15 -20 -25 -30 -35 -40 -45 -50 -55 -60 -65 -70 -75 -80 -85 -90 -95\n"
     ]
    }
   ],
   "source": [
    "print(*range(100,-100,-5))"
   ]
  },
  {
   "cell_type": "code",
   "execution_count": 13,
   "metadata": {},
   "outputs": [
    {
     "name": "stdout",
     "output_type": "stream",
     "text": [
      "p\n",
      "y\n",
      "t\n",
      "h\n",
      "o\n",
      "n\n"
     ]
    }
   ],
   "source": [
    "for  var in 'python' :\n",
    "    print(var)\n"
   ]
  },
  {
   "cell_type": "code",
   "execution_count": 14,
   "metadata": {},
   "outputs": [
    {
     "name": "stdout",
     "output_type": "stream",
     "text": [
      "10\n",
      "hello\n",
      "hi\n",
      "11\n",
      "2\n",
      "3\n"
     ]
    }
   ],
   "source": [
    "for var in [10,'hello','hi',11,2,3] :\n",
    "    print(var)"
   ]
  },
  {
   "cell_type": "code",
   "execution_count": 21,
   "metadata": {},
   "outputs": [
    {
     "name": "stdout",
     "output_type": "stream",
     "text": [
      "var1 =  1\n",
      "var2 =  2\n",
      "\n",
      "var1 =  python\n",
      "var2 =  4\n",
      "\n",
      "var1 =  5\n",
      "var2 =  6\n",
      "\n",
      "var1 =  hello\n",
      "var2 =  hi\n",
      "\n"
     ]
    }
   ],
   "source": [
    "mytuple = ( [1,2], ['python',4], [5,6], ['hello','hi'] )\n",
    "for var1,var2 in mytuple :\n",
    "    print(\"var1 = \",var1)\n",
    "    print(\"var2 = \",var2)\n",
    "    print()"
   ]
  },
  {
   "cell_type": "code",
   "execution_count": 26,
   "metadata": {},
   "outputs": [
    {
     "name": "stdout",
     "output_type": "stream",
     "text": [
      "name = Avengers\n",
      "relese Date = 14 june 2019\n",
      "Director = van burce lee\n",
      "Rating = 8.9\n"
     ]
    }
   ],
   "source": [
    "avenger = { \n",
    "            'name' : 'Avengers',\n",
    "            'relese Date' : '14 june 2019',\n",
    "            'Director' : 'van burce lee', \n",
    "            'Rating' : 8.9 }\n",
    "for key,value in avenger.items() : \n",
    "    print(key,'=',value)"
   ]
  },
  {
   "cell_type": "code",
   "execution_count": 37,
   "metadata": {},
   "outputs": [
    {
     "name": "stdout",
     "output_type": "stream",
     "text": [
      "Enter no of items : 5\n",
      "0\t1\t1\t2\t3\t\n"
     ]
    }
   ],
   "source": [
    "num = int(input(\"Enter no of items : \"))\n",
    "print(\"0\\t1\\t\",end='')\n",
    "s = 0\n",
    "e = num - 2\n",
    "start = 0\n",
    "end = 1\n",
    "while s < e :\n",
    "    start,end = end,start+end\n",
    "    print(end,end='\\t')\n",
    "    s = s + 1\n",
    "print()"
   ]
  },
  {
   "cell_type": "code",
   "execution_count": 39,
   "metadata": {},
   "outputs": [
    {
     "name": "stdout",
     "output_type": "stream",
     "text": [
      "Enter no of items : 7\n",
      "0\t1\t1\t2\t3\t5\t8\t\n"
     ]
    }
   ],
   "source": [
    "num = int(input(\"Enter no of items : \"))\n",
    "print(\"0\\t1\\t\",end='')\n",
    "s = 0\n",
    "e = num - 2\n",
    "start = 0\n",
    "end = 1\n",
    "for var in range(s,e):\n",
    "    start,end = end,start+end\n",
    "    print(end,end='\\t')\n",
    "    s = s + 1\n",
    "print()"
   ]
  },
  {
   "cell_type": "code",
   "execution_count": null,
   "metadata": {},
   "outputs": [
    {
     "name": "stdout",
     "output_type": "stream",
     "text": [
      "\n",
      "\n",
      "\n",
      "**************************************************\n",
      "Welcome to Python Bank\n",
      "**************************************************\n",
      "\n",
      "\n",
      "1. Login \n",
      "2. Signup \n",
      "3. Admin \n",
      "4. Exit\n",
      "Your Choice : 3\n",
      "\n",
      "Enter name : root\n",
      "\n",
      "enter passwordred\n",
      "admin access succcessful\n",
      "user=['ram', 'sam', 'vijay']\n",
      "acc=[1001, 1002, 1003]\n",
      "password=['grras@123', 'something', 'redhat']\n",
      "balance=[10000.23, 20000.45, 124322.234]\n",
      "\n",
      "\n",
      "\n",
      "**************************************************\n",
      "Welcome to Python Bank\n",
      "**************************************************\n",
      "\n",
      "\n",
      "1. Login \n",
      "2. Signup \n",
      "3. Admin \n",
      "4. Exit\n",
      "Your Choice : 1\n",
      "\n",
      "\n",
      "\n",
      "Acc Number : 1001\n",
      "Password : ········\n",
      "\n",
      "\n",
      "Invalid Password\n",
      "\n",
      "Try Again\n",
      "\n",
      "\n",
      "\n",
      "**************************************************\n",
      "Welcome to Python Bank\n",
      "**************************************************\n",
      "\n",
      "\n",
      "1. Login \n",
      "2. Signup \n",
      "3. Admin \n",
      "4. Exit\n",
      "Your Choice : 10\n",
      "\n",
      "InvalidChoice\n",
      "Try again\n",
      "\n",
      "\n",
      "\n",
      "**************************************************\n",
      "Welcome to Python Bank\n",
      "**************************************************\n",
      "\n",
      "\n",
      "1. Login \n",
      "2. Signup \n",
      "3. Admin \n",
      "4. Exit\n",
      "Your Choice : 1\n",
      "\n",
      "\n",
      "\n",
      "Acc Number : 1001\n",
      "Password : ········\n",
      "\n",
      "\n",
      "1. Deposit\n",
      "2. withdrawal\n",
      "3. Check Balance\n",
      "4. Change Password \n",
      "5. Logout\n",
      "Choice : 3\n",
      "your udated balance :  10000.23\n",
      "\n",
      "\n",
      "1. Deposit\n",
      "2. withdrawal\n",
      "3. Check Balance\n",
      "4. Change Password \n",
      "5. Logout\n",
      "Choice : 1\n",
      "enter amount to deposit in rupees : 1002\n",
      "\n",
      "your udated balance 11002.23\n",
      "\n",
      "\n",
      "1. Deposit\n",
      "2. withdrawal\n",
      "3. Check Balance\n",
      "4. Change Password \n",
      "5. Logout\n",
      "Choice : 2\n",
      "\n",
      "enter amount to withrawal in rupees : 20000\n",
      "\n",
      "insufficient balance\n",
      "\n",
      "\n",
      "1. Deposit\n",
      "2. withdrawal\n",
      "3. Check Balance\n",
      "4. Change Password \n",
      "5. Logout\n",
      "Choice : 2\n",
      "\n",
      "enter amount to withrawal in rupees : 102\n",
      "\n",
      "your udated balance :  10000.23\n",
      "\n",
      "\n",
      "1. Deposit\n",
      "2. withdrawal\n",
      "3. Check Balance\n",
      "4. Change Password \n",
      "5. Logout\n",
      "Choice : 4\n",
      "new password········\n",
      "verify passwoord········\n",
      "\n",
      "\n",
      "1. Deposit\n",
      "2. withdrawal\n",
      "3. Check Balance\n",
      "4. Change Password \n",
      "5. Logout\n",
      "Choice : 5\n",
      "\n",
      "Logging you out.....\n",
      "\n",
      "\n",
      "\n",
      "\n",
      "**************************************************\n",
      "Welcome to Python Bank\n",
      "**************************************************\n",
      "\n",
      "\n",
      "1. Login \n",
      "2. Signup \n",
      "3. Admin \n",
      "4. Exit\n",
      "Your Choice : 2\n",
      "Username : sam\n",
      "Initial Blance : 1000\n",
      "Set Password : ········\n",
      "\n",
      "Account Sucessfully Created\n",
      "Note down your account num :  1004\n",
      "Now you can login\n",
      "\n",
      "\n",
      "\n",
      "\n",
      "**************************************************\n",
      "Welcome to Python Bank\n",
      "**************************************************\n",
      "\n",
      "\n",
      "1. Login \n",
      "2. Signup \n",
      "3. Admin \n",
      "4. Exit\n",
      "Your Choice : 1\n",
      "\n",
      "\n",
      "\n",
      "Acc Number : 1004\n",
      "Password : ········\n",
      "\n",
      "\n",
      "Invalid Password\n",
      "\n",
      "Try Again\n",
      "\n",
      "\n",
      "\n",
      "**************************************************\n",
      "Welcome to Python Bank\n",
      "**************************************************\n",
      "\n",
      "\n",
      "1. Login \n",
      "2. Signup \n",
      "3. Admin \n",
      "4. Exit\n",
      "Your Choice : 1\n",
      "\n",
      "\n",
      "\n",
      "Acc Number : 1004\n",
      "Password : ········\n",
      "\n",
      "\n",
      "1. Deposit\n",
      "2. withdrawal\n",
      "3. Check Balance\n",
      "4. Change Password \n",
      "5. Logout\n"
     ]
    }
   ],
   "source": [
    "from getpass import getpass\n",
    "bank = { \n",
    "        'user' : [ 'ram', 'sam','vijay' ],\n",
    "        'acc' : [ 1001, 1002, 1003 ],\n",
    "        'password' : [ 'grras@123', 'something', 'redhat'],\n",
    "        'balance' : [ 10000.23, 20000.45, 124322.234]\n",
    "        }\n",
    "admin = 'root'\n",
    "admin_password = 'red'\n",
    "\n",
    "while True :\n",
    "    print(\"\\n\\n\")\n",
    "    print(\"*\"*50)\n",
    "    print(\"Welcome to Python Bank\")\n",
    "    print(\"*\"*50)\n",
    "    print(\"\\n\\n1. Login \\n2. Signup \\n3. Admin \\n4. Exit\")\n",
    "    ch = int(input(\"Your Choice : \"))\n",
    "    \n",
    "    if ch == 1 :\n",
    "        print(\"\\n\\n\")\n",
    "        uacc = int(input(\"Acc Number : \"))\n",
    "        if uacc in bank['acc'] :\n",
    "            upass = getpass(\"Password : \")\n",
    "            index = bank['acc'].index(uacc)\n",
    "            if upass == bank['password'][index]:\n",
    "                while True :\n",
    "                    print(\"\\n\\n1. Deposit\\n2. withdrawal\\n3. Check Balance\\n4. Change Password \\n5. Logout\")\n",
    "                    ch = int(input(\"Choice : \"))\n",
    "                    if ch == 1 :\n",
    "                        p=int(input(\"enter amount to deposit in rupees : \"))\n",
    "                        bank['balance'][index]+=p\n",
    "                        print(\"\\nyour udated balance\", bank['balance'][index])\n",
    "                    elif ch == 2 :\n",
    "                        z=int(input(\"\\nenter amount to withrawal in rupees : \"))\n",
    "                        if z>bank['balance'][index]:\n",
    "                            print('\\ninsufficient balance')\n",
    "                        else :\n",
    "                            bank['balance'][index]-=p\n",
    "                            print(\"\\nyour udated balance : \", bank['balance'][index])\n",
    "                    \n",
    "                    elif ch == 3 :\n",
    "                        print(\"your udated balance : \",bank['balance'][index])\n",
    "                        \n",
    "                        \n",
    "                    elif ch == 4 :\n",
    "                        \n",
    "                        upass=getpass(\"new password\")\n",
    "                        upass1=getpass(\"verify passwoord\")\n",
    "                        if upass==upass1:\n",
    "                            bank['password'][index]=upass\n",
    "                        \n",
    "                        \n",
    "                    elif ch == 5 :\n",
    "                        print(\"\\nLogging you out.....\\n\")\n",
    "                        break\n",
    "                    else :\n",
    "                        print(\"\\n\\nInvalid Choice \")\n",
    "                        print(\"Try Again\")\n",
    "            else :\n",
    "                print(\"\\n\\nInvalid Password\\n\\nTry Again\")\n",
    "            \n",
    "        else :\n",
    "            print(\"\\n\\nNo such Account Exists \\nYou should signup\\n\\n\")\n",
    "    elif ch == 2 :\n",
    "        acc = bank['acc'][-1] + 1\n",
    "        name = input(\"Username : \")\n",
    "        bal = float(input(\"Initial Blance : \"))\n",
    "        password = getpass(\"Set Password : \")\n",
    "        bank['user'].append(name)\n",
    "        bank['acc'].append(acc)\n",
    "        bank['password'].append(password)\n",
    "        bank['balance'].append(bal)\n",
    "        print(\"\\nAccount Sucessfully Created\")\n",
    "        print(\"Note down your account num :  {}\".format(acc))\n",
    "        print(\"Now you can login\\n\")\n",
    "    elif ch == 3 :\n",
    "        username = input(\"\\nEnter name : \").strip().lower()\n",
    "        password = input(\"\\nenter password\")\n",
    "        if username == admin :\n",
    "            if password == admin_password :\n",
    "                print(\"admin access succcessful\")\n",
    "                for key,value in bank.items():\n",
    "                    print(\"{}={}\".format(key,value))\n",
    "            else :\n",
    "                print(\"\\nInvalid password \\nTry Again\")\n",
    "        else :\n",
    "             print(\"\\nThis user is not an admin.\")\n",
    "    elif ch == 4 :\n",
    "        ch = input(\"\\n\\nDo really want to exit ? (y/n) : \").strip().lower()\n",
    "        if ch == 'y' or ch == 'yes' :      \n",
    "            print(\"\\nThanks for using our services \")\n",
    "            break\n",
    "    else :\n",
    "        print(\"\\nInvalidChoice\\nTry again\")"
   ]
  },
  {
   "cell_type": "code",
   "execution_count": 7,
   "metadata": {},
   "outputs": [
    {
     "name": "stdout",
     "output_type": "stream",
     "text": [
      "True position : 0\n"
     ]
    }
   ],
   "source": [
    "l=[1,2,3,4,5,6]\n",
    "n=1\n",
    "f=n in l\n",
    "print(f,'position :',l.index(n))"
   ]
  },
  {
   "cell_type": "code",
   "execution_count": 14,
   "metadata": {},
   "outputs": [
    {
     "data": {
      "text/plain": [
       "'mayank'"
      ]
     },
     "execution_count": 14,
     "metadata": {},
     "output_type": "execute_result"
    }
   ],
   "source": [
    "d = {\n",
    "     \"name\":[\"harshit\",\"aryan\",\"mayank\",\"manish\",\"rohit\"],\n",
    "     \"roll-no\":[1,2,3,4,5,],\n",
    "     \"branch\":[\"cs\",\"civil\",\"mechanical\",\"ec\",\"electrical\"]}\n",
    "n=d[\"name\"][2]\n",
    "n\n",
    "    "
   ]
  },
  {
   "cell_type": "code",
   "execution_count": 5,
   "metadata": {},
   "outputs": [
    {
     "name": "stdout",
     "output_type": "stream",
     "text": [
      "{'user': ['ram', 'sam', 'vijay'], 'acc': [1001, 1002, 1003], 'password': ['grras@123', 'something', 'redhat'], 'balance': [10000.23, 20000.45, 124322.234]}\n"
     ]
    }
   ],
   "source": [
    "#dump\n",
    "import json\n",
    "d=bank = { \n",
    "        'user' : [ 'ram', 'sam','vijay' ],\n",
    "        'acc' : [ 1001, 1002, 1003 ],\n",
    "        'password' : [ 'grras@123', 'something', 'redhat'],\n",
    "        'balance' : [ 10000.23, 20000.45, 124322.234]\n",
    "        }\n",
    "f=open(\"C:\\\\Users\\\\dell\\\\Desktop\\\\bank.db\",\"w+\")\n",
    "f.writable()\n",
    "json.dump(d,f)\n",
    "f.close()\n",
    "print(d)"
   ]
  },
  {
   "cell_type": "code",
   "execution_count": 6,
   "metadata": {},
   "outputs": [
    {
     "name": "stdout",
     "output_type": "stream",
     "text": [
      "user ['ram', 'sam', 'vijay']\n",
      "acc [1001, 1002, 1003]\n",
      "password ['grras@123', 'something', 'redhat']\n",
      "balance [10000.23, 20000.45, 124322.234]\n"
     ]
    }
   ],
   "source": [
    "\n",
    "#json load\n",
    "import json\n",
    "f=open(\"C:\\\\Users\\\\dell\\\\Desktop\\\\bank.db\")\n",
    "data=json.load(f)\n",
    "for key,value in data.items():\n",
    "    print(key,value)\n"
   ]
  },
  {
   "cell_type": "code",
   "execution_count": null,
   "metadata": {},
   "outputs": [],
   "source": []
  }
 ],
 "metadata": {
  "kernelspec": {
   "display_name": "Python 3",
   "language": "python",
   "name": "python3"
  },
  "language_info": {
   "codemirror_mode": {
    "name": "ipython",
    "version": 3
   },
   "file_extension": ".py",
   "mimetype": "text/x-python",
   "name": "python",
   "nbconvert_exporter": "python",
   "pygments_lexer": "ipython3",
   "version": "3.6.4"
  }
 },
 "nbformat": 4,
 "nbformat_minor": 2
}
