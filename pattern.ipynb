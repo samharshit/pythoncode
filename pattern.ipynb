{
 "cells": [
  {
   "cell_type": "code",
   "execution_count": 2,
   "metadata": {},
   "outputs": [
    {
     "name": "stdout",
     "output_type": "stream",
     "text": [
      "*\n",
      "**\n",
      "***\n",
      "****\n",
      "*****\n"
     ]
    }
   ],
   "source": [
    "for i in range(1,6):\n",
    "    for j in range(1,i+1):\n",
    "       print(\"*\",end=\"\")\n",
    "    print()\n",
    " \n",
    "        \n",
    "        \n",
    "        "
   ]
  },
  {
   "cell_type": "code",
   "execution_count": 53,
   "metadata": {},
   "outputs": [
    {
     "name": "stdout",
     "output_type": "stream",
     "text": [
      "*****\n",
      "****\n",
      "***\n",
      "**\n",
      "*\n"
     ]
    }
   ],
   "source": [
    "for i in range(6,1,-1):\n",
    "    for j in range(1,i):\n",
    "        print(\"*\",end=\"\")\n",
    "    print()\n",
    "        "
   ]
  },
  {
   "cell_type": "code",
   "execution_count": 19,
   "metadata": {},
   "outputs": [
    {
     "name": "stdout",
     "output_type": "stream",
     "text": [
      "enter no : \n",
      "6\n",
      "     *\n",
      "    ***\n",
      "   *****\n",
      "  *******\n",
      " *********\n",
      "***********\n"
     ]
    }
   ],
   "source": [
    "  #equilateral triangle \n",
    "n=int(input(\"enter no : \\n\"))\n",
    "for i in range(1,n+1):\n",
    "    print(\" \"*(n-i),end=\"\")\n",
    "    print(\"*\"*(i*2-1))\n",
    "\n",
    "            \n",
    "       \n",
    "    \n",
    "   \n",
    "        \n",
    "        \n"
   ]
  },
  {
   "cell_type": "code",
   "execution_count": 46,
   "metadata": {},
   "outputs": [
    {
     "name": "stdout",
     "output_type": "stream",
     "text": [
      "hello*\n"
     ]
    }
   ],
   "source": [
    "print(\"hello\",end=\"\")\n",
    "print(\"*\")"
   ]
  },
  {
   "cell_type": "code",
   "execution_count": 47,
   "metadata": {},
   "outputs": [
    {
     "name": "stdout",
     "output_type": "stream",
     "text": [
      "1\n",
      "2\n",
      "3\n",
      "4\n"
     ]
    }
   ],
   "source": [
    "l=[1,2,3,4]\n",
    "for i in l:\n",
    "    print(l[i-1])"
   ]
  },
  {
   "cell_type": "code",
   "execution_count": 45,
   "metadata": {},
   "outputs": [
    {
     "name": "stdout",
     "output_type": "stream",
     "text": [
      "0\n",
      "1\n",
      "2\n",
      "3\n",
      "4\n",
      "5\n",
      "6\n"
     ]
    }
   ],
   "source": [
    "n=4\n",
    "for var in range(0,n*2-1):\n",
    "    print(var)"
   ]
  },
  {
   "cell_type": "code",
   "execution_count": 52,
   "metadata": {},
   "outputs": [
    {
     "name": "stdout",
     "output_type": "stream",
     "text": [
      "value of h :  0\n",
      "value of h :  1\n",
      "value of h :  2\n",
      "value of h :  3\n",
      "value of h :  4\n",
      "value of h :  5\n",
      "value of h :  5\n"
     ]
    }
   ],
   "source": [
    "for h in range(0,6):\n",
    "    print(\"value of h : \",h)\n",
    "    if h==5:\n",
    "        break\n",
    "print(\"value of h : \",h)\n",
    "    "
   ]
  },
  {
   "cell_type": "code",
   "execution_count": 2,
   "metadata": {},
   "outputs": [
    {
     "name": "stdout",
     "output_type": "stream",
     "text": [
      "enter no : \n",
      "9\n",
      "\t         *\n",
      "\t        ***\n",
      "\t       *****\n",
      "\t      *******\n",
      "\t     *********\n",
      "\t    ***********\n",
      "\t   *************\n",
      "\t  ***************\n",
      "\t *****************\n",
      "\t *****************\n",
      "\t  ***************\n",
      "\t   *************\n",
      "\t    ***********\n",
      "\t     *********\n",
      "\t      *******\n",
      "\t       *****\n",
      "\t        ***\n",
      "\t         *\n"
     ]
    }
   ],
   "source": [
    "# equilateral triangle upside down\n",
    "n=int(input(\"enter no : \\n\"))\n",
    "for i in range(1,n+1):\n",
    "    print(\"\\t\",end=\"\")\n",
    "    print(\" \"*((n+1)-i),end=\"\")\n",
    "    print(\"*\"*(i*2-1))\n",
    "for j in range(n,0,-1):\n",
    "    print(\"\\t\",end=\"\")\n",
    "    print(\" \"*(n-(j-1)),end=\"\")\n",
    "    print(\"*\"*(j*2-1))"
   ]
  },
  {
   "cell_type": "code",
   "execution_count": 1,
   "metadata": {},
   "outputs": [
    {
     "name": "stdout",
     "output_type": "stream",
     "text": [
      "\t *   *****\n",
      "\t *   *\n",
      "\t *   *\n",
      "\t *   *\n",
      "\t *********\n",
      "\t     *   *\n",
      "\t     *   *\n",
      "\t     *   *\n",
      "\t *****   *\n"
     ]
    }
   ],
   "source": [
    "# swastik\n",
    "n=9\n",
    "for i in range(1,n+1):\n",
    "    if i==1 or i==n:\n",
    "        if i==1:\n",
    "            print(\"\\t\",\"*\",end=\"\")\n",
    "            print(\" \"*(n//2-1),end=\"\")\n",
    "            print(\"*\"*(n//2+1))\n",
    "        if i==n:\n",
    "            print(\"\\t\",\"*\"*(n//2+1),end=\"\")\n",
    "            print(\" \"*(n//2-1),end=\"\")\n",
    "            print(\"*\")\n",
    "    elif i==2 or i==3 or i==4:\n",
    "        print(\"\\t\",\"*\",end=\"\")\n",
    "        print(\" \"*(n//2-1),end=\"\")\n",
    "        print(\"*\")\n",
    "    elif i==6 or i==7 or i==8:\n",
    "        print(\"\\t\",\" \"*(n//2),end=\"\")\n",
    "        print(\"*\",end=\"\")\n",
    "        print(\" \"*(n//2-1),end=\"\")\n",
    "        print(\"*\")\n",
    "    else:\n",
    "        print(\"\\t\",\"*\"*n)\n",
    "       \n",
    "         \n",
    "        \n",
    "        "
   ]
  },
  {
   "cell_type": "code",
   "execution_count": null,
   "metadata": {},
   "outputs": [],
   "source": [
    "print(\"hello\"*6,\"hi\")"
   ]
  },
  {
   "cell_type": "code",
   "execution_count": 1,
   "metadata": {},
   "outputs": [
    {
     "name": "stdout",
     "output_type": "stream",
     "text": [
      "enter no. 7\n",
      "\t *     *\n",
      "\t *     *\n",
      "\t *     *\n",
      "\t *******\n",
      "\t *     *\n",
      "\t *     *\n",
      "\t *     *\n"
     ]
    }
   ],
   "source": [
    "n=int(input(\"enter no. \"))\n",
    "for i in range(1,n+1):\n",
    "    if i==(n//2+1):\n",
    "        print(\"\\t\",\"*\"*n)\n",
    "    else:\n",
    "        print(\"\\t\",\"*\",end=\"\")\n",
    "        print(\" \"*(n-2),end=\"\")\n",
    "        print(\"*\")"
   ]
  },
  {
   "cell_type": "code",
   "execution_count": 4,
   "metadata": {},
   "outputs": [
    {
     "name": "stdout",
     "output_type": "stream",
     "text": [
      "\t *********\n",
      "\t *\n",
      "\t *\n",
      "\t *\n",
      "\t *********\n",
      "\t         *\n",
      "\t         *\n",
      "\t         *\n",
      "\t *********\n"
     ]
    }
   ],
   "source": [
    "n=9\n",
    "for i in range (1,n+1):\n",
    "    if i==1 or i==n//2+1 or i==n:\n",
    "        print(\"\\t\",\"*\"*n)\n",
    "    elif i>=2 and i<=n//2:\n",
    "        print(\"\\t\",\"*\")\n",
    "    else:\n",
    "        print(\"\\t\",\" \"*(n-1),end=\"\")\n",
    "        print(\"*\")\n",
    "            \n",
    "    \n",
    "    "
   ]
  },
  {
   "cell_type": "code",
   "execution_count": 1,
   "metadata": {},
   "outputs": [
    {
     "name": "stdout",
     "output_type": "stream",
     "text": [
      "enter no of rows : 9\n",
      "\t *********\n",
      "\t *       *\n",
      "\t *       *\n",
      "\t *       *\n",
      "\t *********\n",
      "\t * *\n",
      "\t *   *\n",
      "\t *     *\n",
      "\t *       *\n"
     ]
    }
   ],
   "source": [
    "n=int(input(\"enter no of rows : \"))\n",
    "for i in range (1,n+1):\n",
    "    if i==1 or i==n//2+1:\n",
    "        print(\"\\t\",\"*\"*n)\n",
    "    elif i>=2 and i<=(n//2):\n",
    "        print(\"\\t\",\"*\",end=\"\")\n",
    "        print(\" \"*(n-2),end=\"\")\n",
    "        print(\"*\")\n",
    "    else:\n",
    "        for v in range(1,n-1,2):\n",
    "            print(\"\\t\",\"*\",end=\"\")\n",
    "            print(\" \"*v,end=\"\")\n",
    "            print(\"*\")\n",
    "        break   \n",
    "           \n",
    "            \n",
    "            \n",
    "            \n",
    "            \n",
    "        \n",
    "    "
   ]
  },
  {
   "cell_type": "code",
   "execution_count": 24,
   "metadata": {},
   "outputs": [
    {
     "name": "stdout",
     "output_type": "stream",
     "text": [
      "enter no. 4\n",
      "enter no. 6\n",
      "no\n"
     ]
    }
   ],
   "source": [
    "n=int(input(\"enter no. \"))\n",
    "m=int(input(\"enter no. \"))\n",
    "for var in range(1,n//2+1):\n",
    "    if m==var:\n",
    "        print(\"yes\")\n",
    "        break\n",
    "    else:\n",
    "        print(\"no\")\n",
    "        break\n"
   ]
  },
  {
   "cell_type": "code",
   "execution_count": 20,
   "metadata": {},
   "outputs": [
    {
     "data": {
      "text/plain": [
       "range(2, 5)"
      ]
     },
     "execution_count": 20,
     "metadata": {},
     "output_type": "execute_result"
    }
   ],
   "source": [
    "i=range(2,5)\n",
    "i"
   ]
  },
  {
   "cell_type": "code",
   "execution_count": 55,
   "metadata": {},
   "outputs": [
    {
     "name": "stdout",
     "output_type": "stream",
     "text": [
      "\t *********\n",
      "\t     *\n",
      "\t     *\n",
      "\t     *\n",
      "\t     *\n",
      "\t     *\n",
      "\t     *\n",
      "\t     *\n",
      "\t     *\n"
     ]
    }
   ],
   "source": [
    "n=int(input(\"enter no of rows\"))\n",
    "for i in range(1,n+1):\n",
    "    if i==1:\n",
    "        print(\"\\t\",\"*\"*n)\n",
    "    else:\n",
    "        print(\"\\t\",\" \"*(n//2),end=\"\")\n",
    "        print(\"*\")"
   ]
  },
  {
   "cell_type": "code",
   "execution_count": 1,
   "metadata": {},
   "outputs": [
    {
     "name": "stdout",
     "output_type": "stream",
     "text": [
      "enter no of rows7\n",
      "\t *******\n",
      "\t    *\n",
      "\t    *\n",
      "\t    *\n",
      "\t    *\n",
      "\t    *\n",
      "\t *******\n"
     ]
    }
   ],
   "source": [
    "n=int(input(\"enter no of rows\"))\n",
    "for i in range(1,n+1):\n",
    "    if i==1 or i==n:\n",
    "        print(\"\\t\",\"*\"*n)\n",
    "    else:\n",
    "        print(\"\\t\",\" \"*(n//2),end=\"\")\n",
    "        print(\"*\")"
   ]
  },
  {
   "cell_type": "code",
   "execution_count": 29,
   "metadata": {},
   "outputs": [
    {
     "name": "stdout",
     "output_type": "stream",
     "text": [
      "enter no of rows27\n",
      "                           *\n",
      "             ***************************\n",
      "*                                                    *\n"
     ]
    }
   ],
   "source": [
    "n=int(input(\"enter no of rows\"))\n",
    "for i in range(1,n+1):\n",
    "    if i==1:\n",
    "        print(\" \"*(n-1),\"*\")\n",
    "    elif i==n:\n",
    "        print(\"*\",end=\"\")\n",
    "        print(\" \"*(2*n-3),\"*\")\n",
    "    elif i==n//2+1:\n",
    "        print(\" \"*(n//2),end=\"\")\n",
    "        print(\"*\"*n)\n",
    "    else:\n",
    "        if i>=2 and i<=n-1:\n",
    "            print\n",
    "            \n",
    "            \n",
    "        \n",
    "        "
   ]
  },
  {
   "cell_type": "code",
   "execution_count": 15,
   "metadata": {},
   "outputs": [
    {
     "name": "stdout",
     "output_type": "stream",
     "text": [
      "enter no of rows9\n",
      "\t *\n",
      "\t *\n",
      "\t *\n",
      "\t *\n",
      "\t *\n",
      "\t *\n",
      "\t *\n",
      "\t *\n",
      "\t *********\n"
     ]
    }
   ],
   "source": [
    "n=int(input(\"enter no of rows\"))\n",
    "for i in range(1,n+1):\n",
    "    if i==n:\n",
    "        print(\"\\t\",\"*\"*n)\n",
    "    else:\n",
    "        print(\"\\t\",\"*\")"
   ]
  },
  {
   "cell_type": "code",
   "execution_count": 13,
   "metadata": {},
   "outputs": [
    {
     "name": "stdout",
     "output_type": "stream",
     "text": [
      "enter no of rows9\n",
      "\t *********\n",
      "\t *\n",
      "\t *\n",
      "\t *\n",
      "\t *********\n",
      "\t *\n",
      "\t *\n",
      "\t *\n",
      "\t *********\n"
     ]
    }
   ],
   "source": [
    "n=int(input(\"enter no of rows\"))\n",
    "for i in range(1,n+1):\n",
    "    if i==n or i==1 or i==n//2+1:\n",
    "        print(\"\\t\",\"*\"*n)\n",
    "    else:\n",
    "        print(\"\\t\",\"*\")"
   ]
  },
  {
   "cell_type": "code",
   "execution_count": null,
   "metadata": {},
   "outputs": [],
   "source": [
    "n=int(input(\"enter no of rows\"))\n",
    "for i in range(1,n+1):\n",
    "    if i==n or i==1:\n",
    "        print(\"\\t\",\"*\"*n)\n",
    "    else:\n",
    "        print(\"\\t\",\"*\",end=\"\")\n",
    "        print(\" \"*(n-2),end=\"\")\n",
    "        print(\"*\")"
   ]
  },
  {
   "cell_type": "code",
   "execution_count": null,
   "metadata": {},
   "outputs": [],
   "source": [
    "print(\" \"*((l//2)),end=\"\")"
   ]
  }
 ],
 "metadata": {
  "kernelspec": {
   "display_name": "Python 3",
   "language": "python",
   "name": "python3"
  },
  "language_info": {
   "codemirror_mode": {
    "name": "ipython",
    "version": 3
   },
   "file_extension": ".py",
   "mimetype": "text/x-python",
   "name": "python",
   "nbconvert_exporter": "python",
   "pygments_lexer": "ipython3",
   "version": "3.6.4"
  }
 },
 "nbformat": 4,
 "nbformat_minor": 2
}
