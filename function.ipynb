{
 "cells": [
  {
   "cell_type": "code",
   "execution_count": 25,
   "metadata": {},
   "outputs": [
    {
     "name": "stdout",
     "output_type": "stream",
     "text": [
      "['\\x00']['\\x01']['\\x02']['\\x03']['\\x04']['\\x05']['\\x06']['\\x07']['\\x08']['\\t']['\\n']['\\x0b']['\\x0c']['\\r']['\\x0e']['\\x0f']['\\x10']['\\x11']['\\x12']['\\x13']['\\x14']['\\x15']['\\x16']['\\x17']['\\x18']['\\x19']['\\x1a']['\\x1b']['\\x1c']['\\x1d']['\\x1e']['\\x1f'][' ']['!']['\"']['#']['$']['%']['&'][\"'\"]['('][')']['*']['+'][',']['-']['.']['/']['0']['1']"
     ]
    }
   ],
   "source": [
    "for var in range(0,50):\n",
    "    l=[]\n",
    "    l.append(chr(var))\n",
    "    print(l,end=\"\")\n",
    "    \n",
    "    "
   ]
  },
  {
   "cell_type": "code",
   "execution_count": 26,
   "metadata": {},
   "outputs": [],
   "source": [
    "#function recurssion\n",
    "\n"
   ]
  },
  {
   "cell_type": "code",
   "execution_count": null,
   "metadata": {},
   "outputs": [],
   "source": [
    "s=int(input(\"enter no\"))\n",
    "for var in range(1,s+1):\n",
    "    "
   ]
  }
 ],
 "metadata": {
  "kernelspec": {
   "display_name": "Python 3",
   "language": "python",
   "name": "python3"
  },
  "language_info": {
   "codemirror_mode": {
    "name": "ipython",
    "version": 3
   },
   "file_extension": ".py",
   "mimetype": "text/x-python",
   "name": "python",
   "nbconvert_exporter": "python",
   "pygments_lexer": "ipython3",
   "version": "3.6.4"
  }
 },
 "nbformat": 4,
 "nbformat_minor": 2
}
