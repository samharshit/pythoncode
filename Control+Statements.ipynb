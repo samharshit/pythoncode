{
 "cells": [
  {
   "cell_type": "markdown",
   "metadata": {},
   "source": [
    "# Control Statements"
   ]
  },
  {
   "cell_type": "markdown",
   "metadata": {},
   "source": [
    "# syntax \n",
    "#if condition : (: is defined as indentation operator used define block of code)\n",
    "    #statement1\n",
    "    #statement2\n",
    "        #\"\n",
    "        #\"\n",
    "    #statementn\n",
    "#else :\n",
    "    #statement1\n",
    "    #statement2\n",
    "        #\"\"\n",
    "        #\"\"\n",
    "    #statementn"
   ]
  },
  {
   "cell_type": "code",
   "execution_count": 2,
   "metadata": {},
   "outputs": [
    {
     "name": "stdout",
     "output_type": "stream",
     "text": [
      "Enter a number : 54\n",
      "Even\n"
     ]
    }
   ],
   "source": [
    "#EVEN ODD \n",
    "\n",
    "x = int(input(\"Enter a number : \"))\n",
    "if x % 2 == 0 :\n",
    "    print(\"Even\")\n",
    "else : \n",
    "    print(\"Odd\")\n",
    "    \n",
    "    "
   ]
  },
  {
   "cell_type": "code",
   "execution_count": 5,
   "metadata": {},
   "outputs": [
    {
     "name": "stdout",
     "output_type": "stream",
     "text": [
      "A : 4\n",
      "B : 8\n",
      "C : 0\n",
      "B is Greatest\n"
     ]
    }
   ],
   "source": [
    "#Greatest among Three numbers \n",
    "a = int(input(\"A : \"))\n",
    "b = int(input(\"B : \"))\n",
    "c = int(input(\"C : \"))\n",
    "\n",
    "if a >= b :\n",
    "    if a >= c :\n",
    "        print(\"A is greatest \")\n",
    "    else :\n",
    "        print(\"C is greatest \")\n",
    "elif b >= c :\n",
    "    print(\"B is Greatest\")\n",
    "\n",
    "else :\n",
    "    print(\"C is Greatest \")"
   ]
  },
  {
   "cell_type": "code",
   "execution_count": 8,
   "metadata": {},
   "outputs": [
    {
     "name": "stdout",
     "output_type": "stream",
     "text": [
      "A : 10\n",
      "B : 20\n",
      "C : 30\n",
      "C is Greatest\n"
     ]
    }
   ],
   "source": [
    "a = int(input(\"A : \"))\n",
    "b = int(input(\"B : \"))\n",
    "c = int(input(\"C : \"))\n",
    "if a >= b and a >= c :\n",
    "    print(\"A is Greatest\")\n",
    "elif b >= a and b >= c :\n",
    "    print(\"B is Greatest\")\n",
    "else :\n",
    "    print(\"C is Greatest\")"
   ]
  },
  {
   "cell_type": "code",
   "execution_count": null,
   "metadata": {
    "collapsed": true
   },
   "outputs": [],
   "source": []
  }
 ],
 "metadata": {
  "kernelspec": {
   "display_name": "Python 3",
   "language": "python",
   "name": "python3"
  },
  "language_info": {
   "codemirror_mode": {
    "name": "ipython",
    "version": 3
   },
   "file_extension": ".py",
   "mimetype": "text/x-python",
   "name": "python",
   "nbconvert_exporter": "python",
   "pygments_lexer": "ipython3",
   "version": "3.6.4"
  }
 },
 "nbformat": 4,
 "nbformat_minor": 2
}
