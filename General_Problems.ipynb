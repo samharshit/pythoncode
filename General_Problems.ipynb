{
 "cells": [
  {
   "cell_type": "markdown",
   "metadata": {},
   "source": [
    "# Prime"
   ]
  },
  {
   "cell_type": "code",
   "execution_count": 9,
   "metadata": {},
   "outputs": [
    {
     "name": "stdout",
     "output_type": "stream",
     "text": [
      "Enter a Number : 10000659419\n"
     ]
    },
    {
     "ename": "KeyboardInterrupt",
     "evalue": "",
     "output_type": "error",
     "traceback": [
      "\u001b[1;31m---------------------------------------------------------------------------\u001b[0m",
      "\u001b[1;31mKeyboardInterrupt\u001b[0m                         Traceback (most recent call last)",
      "\u001b[1;32m<ipython-input-9-e67ec99d0514>\u001b[0m in \u001b[0;36m<module>\u001b[1;34m()\u001b[0m\n\u001b[0;32m     10\u001b[0m \u001b[1;32mwhile\u001b[0m \u001b[0mcheck\u001b[0m \u001b[1;33m<=\u001b[0m \u001b[0mnum\u001b[0m \u001b[1;33m-\u001b[0m \u001b[1;36m1\u001b[0m \u001b[1;33m:\u001b[0m\u001b[1;33m\u001b[0m\u001b[0m\n\u001b[0;32m     11\u001b[0m \u001b[1;33m\u001b[0m\u001b[0m\n\u001b[1;32m---> 12\u001b[1;33m     \u001b[0mk\u001b[0m \u001b[1;33m=\u001b[0m \u001b[0mnum\u001b[0m \u001b[1;33m%\u001b[0m \u001b[0mcheck\u001b[0m\u001b[1;33m\u001b[0m\u001b[0m\n\u001b[0m\u001b[0;32m     13\u001b[0m     \u001b[1;32mif\u001b[0m \u001b[0mk\u001b[0m \u001b[1;33m==\u001b[0m \u001b[1;36m0\u001b[0m \u001b[1;33m:\u001b[0m\u001b[1;33m\u001b[0m\u001b[0m\n\u001b[0;32m     14\u001b[0m         \u001b[0mprint\u001b[0m\u001b[1;33m(\u001b[0m\u001b[1;34m\"Not Prime\"\u001b[0m\u001b[1;33m)\u001b[0m\u001b[1;33m\u001b[0m\u001b[0m\n",
      "\u001b[1;31mKeyboardInterrupt\u001b[0m: "
     ]
    }
   ],
   "source": [
    "num = int(input(\"Enter a Number : \"))\n",
    "if num <= 1 :\n",
    "    print(\"Not Prime\")\n",
    "    print(\"Error!This is not valid input to check prime\")\n",
    "    exit(0)\n",
    "elif num <= 3 :\n",
    "    print(\"Prime\")\n",
    "    exit(0)\n",
    "check = 2\n",
    "while check <= num - 1 :\n",
    "    \n",
    "    k = num % check \n",
    "    if k == 0 :\n",
    "        print(\"Not Prime\")\n",
    "        break\n",
    "    elif check == num - 1 :\n",
    "        print(\"Prime\")\n",
    "    check = check + 1\n",
    "        "
   ]
  },
  {
   "cell_type": "code",
   "execution_count": 1,
   "metadata": {},
   "outputs": [
    {
     "name": "stdout",
     "output_type": "stream",
     "text": [
      "Enter a number : 23\n",
      "23/2=11,1\n",
      "23/3=7,2\n",
      "23/4=5,3\n",
      "23/5=4,3\n",
      "23/6=3,5\n",
      "23/7=3,2\n",
      "23/8=2,7\n",
      "23/9=2,5\n",
      "23/10=2,3\n",
      "23/11=2,1\n",
      "23/12=1,11\n",
      "23/13=1,10\n",
      "23/14=1,9\n",
      "23/15=1,8\n",
      "23/16=1,7\n",
      "23/17=1,6\n",
      "23/18=1,5\n",
      "23/19=1,4\n",
      "23/20=1,3\n",
      "23/21=1,2\n",
      "23/22=1,1\n"
     ]
    }
   ],
   "source": [
    "num = int(input(\"Enter a number : \"))\n",
    "c = 2 \n",
    "while c <= num - 1 :\n",
    "    print(\"{}/{}={},{}\".format(num,c,num//c,num%c))\n",
    "    c = c + 1\n",
    "    "
   ]
  },
  {
   "cell_type": "code",
   "execution_count": 6,
   "metadata": {},
   "outputs": [
    {
     "name": "stdout",
     "output_type": "stream",
     "text": [
      "Enter a Number : 127\n",
      "Prime\n"
     ]
    }
   ],
   "source": [
    "num = int(input(\"Enter a Number : \"))\n",
    "if num <= 1 :\n",
    "    print(\"Not Prime\")\n",
    "    print(\"Error!This is not valid input to check prime\")\n",
    "    exit(0)\n",
    "elif num <= 3 :\n",
    "    print(\"Prime\")\n",
    "    exit(0)\n",
    "check = 2\n",
    "while check <= num // 2 + 1 :\n",
    "    \n",
    "    k = num % check \n",
    "    if k == 0 :\n",
    "        print(\"Not Prime\")\n",
    "        break\n",
    "    elif check == num //2 + 1 :\n",
    "        print(\"Prime\")\n",
    "    check = check + 1\n",
    "        "
   ]
  },
  {
   "cell_type": "code",
   "execution_count": 8,
   "metadata": {},
   "outputs": [
    {
     "name": "stdout",
     "output_type": "stream",
     "text": [
      "Enter a Number : 47983274739437294\n",
      "Not Prime\n"
     ]
    }
   ],
   "source": [
    "num = int(input(\"Enter a Number : \"))\n",
    "if num <= 1 :\n",
    "    print(\"Not Prime\")\n",
    "    print(\"Error!This is not valid input to check prime\")\n",
    "    exit(0)\n",
    "elif num <= 3 :\n",
    "    print(\"Prime\")\n",
    "    exit(0)\n",
    "check = 2\n",
    "import math\n",
    "sq = math.sqrt(num)\n",
    "sq = int(sq) + 1\n",
    "\n",
    "while check <= sq :\n",
    "    \n",
    "    k = num % check \n",
    "    if k == 0 :\n",
    "        print(\"Not Prime\")\n",
    "        break\n",
    "    elif check == sq :\n",
    "        print(\"Prime\")\n",
    "    check = check + 1\n",
    "        "
   ]
  },
  {
   "cell_type": "code",
   "execution_count": 13,
   "metadata": {},
   "outputs": [
    {
     "name": "stdout",
     "output_type": "stream",
     "text": [
      "Enter start Point : 1\n",
      "Enter ending Point : 100\n",
      "1\t2\t3\t3\t5\t7\t11\t13\t17\t19\t23\t29\t31\t37\t41\t43\t47\t53\t59\t61\t67\t71\t73\t79\t83\t89\t97\t"
     ]
    }
   ],
   "source": [
    "s = int(input(\"Enter start Point : \"))\n",
    "e = int(input(\"Enter ending Point : \"))\n",
    "import math\n",
    "while s <= e :\n",
    "    num = s\n",
    "    if num <= 1 :\n",
    "        exit(0)\n",
    "    elif num <= 3 :\n",
    "        print(num,end='\\t')\n",
    "        exit(0)\n",
    "    check = 2\n",
    "    sq = math.sqrt(num)\n",
    "    sq = int(sq) + 1\n",
    "\n",
    "    while check <= sq :\n",
    "    \n",
    "        k = num % check \n",
    "        if k == 0 :\n",
    "            break\n",
    "        elif check == sq :\n",
    "            print(num,end='\\t')\n",
    "        check = check + 1\n",
    "    s = s + 1"
   ]
  },
  {
   "cell_type": "code",
   "execution_count": 3,
   "metadata": {},
   "outputs": [
    {
     "name": "stdout",
     "output_type": "stream",
     "text": [
      "Do want to roll again : 1\n",
      "Score :  5\n",
      "Do want to roll again : 2\n",
      "Score :  3\n",
      "Do want to roll again : 3\n",
      "Score :  3\n",
      "Do want to roll again : 4\n",
      "Score :  4\n",
      "Do want to roll again : 5\n",
      "Score :  4\n",
      "Do want to roll again : 6\n",
      "Score :  6\n",
      "Do want to roll again : 7\n",
      "Score :  2\n",
      "Do want to roll again : \n"
     ]
    }
   ],
   "source": [
    "from random import randrange\n",
    "while input(\"Do want to roll again : \"):\n",
    "    print(\"Score : \",randrange(1,7))\n",
    "    "
   ]
  },
  {
   "cell_type": "code",
   "execution_count": 4,
   "metadata": {},
   "outputs": [
    {
     "name": "stdout",
     "output_type": "stream",
     "text": [
      "p\n",
      "y\n",
      "t\n",
      "h\n",
      "o\n",
      "n\n"
     ]
    }
   ],
   "source": [
    "for var in 'python':\n",
    "    print(var)"
   ]
  },
  {
   "cell_type": "code",
   "execution_count": 5,
   "metadata": {},
   "outputs": [
    {
     "name": "stdout",
     "output_type": "stream",
     "text": [
      "1\n",
      "2\n",
      "3\n",
      "4\n",
      "5\n",
      "6\n",
      "7\n",
      "8\n",
      "9\n",
      "1\n",
      "0\n"
     ]
    }
   ],
   "source": [
    "for var in '12345678910' :\n",
    "    print(var)"
   ]
  },
  {
   "cell_type": "code",
   "execution_count": 7,
   "metadata": {},
   "outputs": [
    {
     "name": "stdout",
     "output_type": "stream",
     "text": [
      "Enter no. : 5\n",
      "5\n",
      "10\n",
      "15\n",
      "20\n",
      "25\n",
      "30\n",
      "35\n",
      "40\n",
      "45\n",
      "50\n"
     ]
    }
   ],
   "source": [
    "l = [ 1,2,3,4,5,6,7,8,9,10]\n",
    "num  = int(input(\"Enter no. : \"))\n",
    "for var in l :\n",
    "    print(num*var)"
   ]
  },
  {
   "cell_type": "code",
   "execution_count": 8,
   "metadata": {},
   "outputs": [
    {
     "name": "stdout",
     "output_type": "stream",
     "text": [
      "hello\n",
      "hi\n",
      "how\n",
      "are\n",
      "you\n"
     ]
    }
   ],
   "source": [
    "l = [ \"hello\",\"hi\",\"how\",'are','you']\n",
    "for var in l :\n",
    "    print(var)"
   ]
  },
  {
   "cell_type": "code",
   "execution_count": 15,
   "metadata": {},
   "outputs": [
    {
     "name": "stdout",
     "output_type": "stream",
     "text": [
      "one = 1\n",
      "two = 2\n",
      "three = 3\n",
      "four = 4\n",
      "five = 5\n"
     ]
    }
   ],
   "source": [
    "d = { 'one':1,\n",
    "      'two':2,\n",
    "      'three':3,\n",
    "     'four':4,\n",
    "     'five':5\n",
    "        }\n",
    "for key in d:\n",
    "    print(key,'=',d[key])"
   ]
  },
  {
   "cell_type": "code",
   "execution_count": 18,
   "metadata": {},
   "outputs": [
    {
     "name": "stdout",
     "output_type": "stream",
     "text": [
      "hi=hello\n",
      "bye=chalo\n",
      "good=bad\n"
     ]
    }
   ],
   "source": [
    "d = { 'hi':'hello','bye':'chalo','good':'bad'}\n",
    "for key,value in d.items():\n",
    "    print(\"{}={}\".format(key,value))"
   ]
  },
  {
   "cell_type": "code",
   "execution_count": 21,
   "metadata": {},
   "outputs": [
    {
     "name": "stdout",
     "output_type": "stream",
     "text": [
      "1 2 3\n",
      "3 4 5\n",
      "7 8 9\n"
     ]
    }
   ],
   "source": [
    "l = [\n",
    "    [1,2,3],\n",
    "    [3,4,5],\n",
    "    [7,8,9]\n",
    "]\n",
    "for one,two,three in l :\n",
    "    print(one,two,three)"
   ]
  },
  {
   "cell_type": "code",
   "execution_count": 22,
   "metadata": {},
   "outputs": [
    {
     "name": "stdout",
     "output_type": "stream",
     "text": [
      "<class 'range'>\n",
      "range(1, 100, 5)\n",
      "1 6 11 16 21 26 31 36 41 46 51 56 61 66 71 76 81 86 91 96\n"
     ]
    }
   ],
   "source": [
    "start = 1\n",
    "end = 100\n",
    "step = 5\n",
    "k = range(start,end,step)\n",
    "print(type(k))\n",
    "print(k)\n",
    "print(*k)"
   ]
  },
  {
   "cell_type": "code",
   "execution_count": 23,
   "metadata": {},
   "outputs": [
    {
     "name": "stdout",
     "output_type": "stream",
     "text": [
      "100 99 98 97 96 95 94 93 92 91 90 89 88 87 86 85 84 83 82 81 80 79 78 77 76 75 74 73 72 71 70 69 68 67 66 65 64 63 62 61 60 59 58 57 56 55 54 53 52 51 50 49 48 47 46 45 44 43 42 41 40 39 38 37 36 35 34 33 32 31 30 29 28 27 26 25 24 23 22 21 20 19 18 17 16 15 14 13 12 11 10 9 8 7 6 5 4 3 2 1\n"
     ]
    }
   ],
   "source": [
    "print(*range(100,0,-1))"
   ]
  },
  {
   "cell_type": "code",
   "execution_count": 26,
   "metadata": {},
   "outputs": [
    {
     "name": "stdout",
     "output_type": "stream",
     "text": [
      "Enter Starting point : 1\n",
      "Enter Ending point : 100\n",
      "Enter num : 5\n",
      "1\t2\t3\t4\t6\t7\t8\t9\t11\t12\t13\t14\t16\t17\t18\t19\t21\t22\t23\t24\t26\t27\t28\t29\t31\t32\t33\t34\t36\t37\t38\t39\t41\t42\t43\t44\t46\t47\t48\t49\t51\t52\t53\t54\t56\t57\t58\t59\t61\t62\t63\t64\t66\t67\t68\t69\t71\t72\t73\t74\t76\t77\t78\t79\t81\t82\t83\t84\t86\t87\t88\t89\t91\t92\t93\t94\t96\t97\t98\t99\t"
     ]
    }
   ],
   "source": [
    "s = int(input(\"Enter Starting point : \"))\n",
    "e = int(input(\"Enter Ending point : \"))\n",
    "num = int(input(\"Enter num : \"))\n",
    "for var in range(s,e+1):\n",
    "    if var % num :\n",
    "        print(var,end='\\t')\n",
    "        \n",
    "        "
   ]
  },
  {
   "cell_type": "code",
   "execution_count": 29,
   "metadata": {},
   "outputs": [
    {
     "name": "stdout",
     "output_type": "stream",
     "text": [
      "-16\n"
     ]
    }
   ],
   "source": [
    "for var in range(-16,-18,-2):\n",
    "    print(var)"
   ]
  },
  {
   "cell_type": "code",
   "execution_count": 31,
   "metadata": {},
   "outputs": [
    {
     "name": "stdout",
     "output_type": "stream",
     "text": [
      "-100 -99 -98 -97 -96 -95 -94 -93 -92 -91 -90 -89 -88 -87 -86 -85 -84 -83 -82 -81 -80 -79 -78 -77 -76 -75 -74 -73 -72 -71 -70 -69 -68 -67 -66 -65 -64 -63 -62 -61 -60 -59 -58 -57 -56 -55 -54 -53 -52 -51 -50 -49 -48 -47 -46 -45 -44 -43 -42 -41 -40 -39 -38 -37 -36 -35 -34 -33 -32 -31 -30 -29 -28 -27 -26 -25 -24 -23 -22 -21 -20 -19 -18 -17 -16 -15 -14 -13 -12 -11 -10 -9 -8 -7 -6 -5 -4 -3 -2 -1 "
     ]
    }
   ],
   "source": [
    "for var in range(-100,0):\n",
    "    print(var,end=' ')"
   ]
  },
  {
   "cell_type": "code",
   "execution_count": 35,
   "metadata": {},
   "outputs": [
    {
     "name": "stdout",
     "output_type": "stream",
     "text": [
      "-5 -10 -15 -20 -25 -30 -35 -40 -45 -50 -55 -60 -65 -70 -75 -80 -85 -90 -95 -100 "
     ]
    }
   ],
   "source": [
    "for var in range(-1,-101,-1):\n",
    "    if var % 5 == 0 :\n",
    "        print(var,end=' ')"
   ]
  },
  {
   "cell_type": "code",
   "execution_count": 37,
   "metadata": {
    "scrolled": true
   },
   "outputs": [
    {
     "name": "stdout",
     "output_type": "stream",
     "text": [
      "111\n",
      "No such Account exist.\n"
     ]
    }
   ],
   "source": [
    "bank = { \n",
    "        'user' : [ 'python','java','c','c+'],\n",
    "        'acc' : [ 1001,1002,1003,1004],\n",
    "        'password' : [ 'rehdat','hi','bye','hello'],\n",
    "        'bal' : [ 50000,30000,10000]\n",
    "        }\n",
    "acc = int(input())\n",
    "if acc in bank['acc']:\n",
    "    pass\n",
    "else :\n",
    "    print(\"No such Account exist.\")"
   ]
  },
  {
   "cell_type": "code",
   "execution_count": 40,
   "metadata": {},
   "outputs": [
    {
     "name": "stdout",
     "output_type": "stream",
     "text": [
      "x x x\n",
      "x x x\n",
      "x x x\n",
      "Player 1 \n",
      "x : 0\n",
      "y : 0\n",
      "x : 1\n",
      "y : 1\n",
      "0 x x\n",
      "x 1 x\n",
      "x x x\n"
     ]
    }
   ],
   "source": [
    "l = [\n",
    "    [ 'x', 'x', 'x' ],\n",
    "    [ 'x', 'x', 'x' ],\n",
    "    [ 'x', 'x', 'x' ],\n",
    "]\n",
    "for var in l :\n",
    "    print(*var)\n",
    "print(\"Player 1 \")\n",
    "x1 = int(input(\"x : \"))\n",
    "y1 = int(input(\"y : \"))\n",
    "l[x1][y1] = '0'\n",
    "x2 = int(input(\"x : \"))\n",
    "y2 = int(input(\"y : \"))\n",
    "l[x2][y2] = '1'\n",
    "for var in l :\n",
    "    print(*var)"
   ]
  },
  {
   "cell_type": "code",
   "execution_count": null,
   "metadata": {
    "collapsed": true
   },
   "outputs": [],
   "source": []
  }
 ],
 "metadata": {
  "kernelspec": {
   "display_name": "Python 3",
   "language": "python",
   "name": "python3"
  },
  "language_info": {
   "codemirror_mode": {
    "name": "ipython",
    "version": 3
   },
   "file_extension": ".py",
   "mimetype": "text/x-python",
   "name": "python",
   "nbconvert_exporter": "python",
   "pygments_lexer": "ipython3",
   "version": "3.6.3"
  }
 },
 "nbformat": 4,
 "nbformat_minor": 2
}
