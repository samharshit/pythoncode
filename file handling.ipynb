{
 "cells": [
  {
   "cell_type": "markdown",
   "metadata": {},
   "source": [
    "# File handling"
   ]
  },
  {
   "cell_type": "markdown",
   "metadata": {},
   "source": [
    "1.open\n",
    "- read\n",
    "- write\n",
    "- append\n",
    "\n",
    "fp=open('fname',mode,buffer_size)\n",
    " modes\n",
    "1. r = read the file which is open\n",
    "2. r+ =read and write\n",
    "3. rb= read an byte file\n",
    "4. rb+=read,write and overwrite byte files(m)\n",
    "4. w =write and overwrite current file\n",
    "5. w+=read and overwrite current file\n",
    "6. a=add to the current file"
   ]
  },
  {
   "cell_type": "code",
   "execution_count": 7,
   "metadata": {},
   "outputs": [
    {
     "data": {
      "text/plain": [
       "24"
      ]
     },
     "execution_count": 7,
     "metadata": {},
     "output_type": "execute_result"
    }
   ],
   "source": [
    "f=open(\"C:\\\\Users\\\\dell\\\\Desktop\\\\time.txt\",'w+')\n",
    "import time\n",
    "t=time.ctime()\n",
    "f.write(t)"
   ]
  },
  {
   "cell_type": "code",
   "execution_count": 4,
   "metadata": {},
   "outputs": [
    {
     "data": {
      "text/plain": [
       "\"['anil', 'aryan', 'harshit', 'mansish', 'vivek']\""
      ]
     },
     "execution_count": 4,
     "metadata": {},
     "output_type": "execute_result"
    }
   ],
   "source": [
    "d={\"name\":[\"harshit\",\"vivek\",\"anil\",\"mansish\",\"aryan\"],\n",
    "   \"roll_no\":[1,2,3,4,5],\n",
    "   \"branch\":[\"cs\",\"ce\",\"me\",\"ec\",\"ee\"]\n",
    "  }\n",
    "f=open(\"C:\\\\Users\\\\dell\\\\Desktop\\\\record.txt\",'w')\n",
    "f.close()\n",
    "#for var in \n",
    "#f.write(d[\"name\"])\n",
    "le=len(d[\"name\"])\n",
    "d[\"name\"].sort()\n",
    "d[\"name\"]\n",
    "l=str(d[\"name\"])\n",
    "l\n",
    "#m=l.split(\" \")\n",
    "\n",
    "\n",
    "\n",
    "    \n"
   ]
  },
  {
   "cell_type": "code",
   "execution_count": 5,
   "metadata": {},
   "outputs": [],
   "source": [
    "#bank using jason and log\n",
    "\n",
    "d={\"name\":[\"harshit\",\"vivek\",\"anil\",\"mansish\",\"aryan\"],\n",
    "   \"roll_no\":[1,2,3,4,5],\n",
    "   \"branch\":[\"cs\",\"ce\",\"me\",\"ec\",\"ee\"]\n",
    "  }\n",
    "import json\n",
    "f=open(\"rec.txt\",\"w\")\n",
    "f.writable()\n",
    "json.dump(d,f)\n",
    "f.close()\n",
    "\n"
   ]
  },
  {
   "cell_type": "code",
   "execution_count": 31,
   "metadata": {},
   "outputs": [
    {
     "data": {
      "text/plain": [
       "'C:\\\\newbatch'"
      ]
     },
     "execution_count": 31,
     "metadata": {},
     "output_type": "execute_result"
    }
   ],
   "source": [
    "pwd"
   ]
  },
  {
   "cell_type": "code",
   "execution_count": 8,
   "metadata": {},
   "outputs": [],
   "source": [
    "f=open(\"C:\\\\Users\\\\dell\\\\Desktop\\\\harshit.txt\",\"a\")\n",
    "#l=f.read()\n",
    "f.write(\"\\nthis the end\\n\")\n",
    "f.write(\"continue\")\n",
    "f.close()"
   ]
  },
  {
   "cell_type": "code",
   "execution_count": null,
   "metadata": {},
   "outputs": [],
   "source": []
  }
 ],
 "metadata": {
  "kernelspec": {
   "display_name": "Python 3",
   "language": "python",
   "name": "python3"
  },
  "language_info": {
   "codemirror_mode": {
    "name": "ipython",
    "version": 3
   },
   "file_extension": ".py",
   "mimetype": "text/x-python",
   "name": "python",
   "nbconvert_exporter": "python",
   "pygments_lexer": "ipython3",
   "version": "3.6.4"
  }
 },
 "nbformat": 4,
 "nbformat_minor": 2
}
